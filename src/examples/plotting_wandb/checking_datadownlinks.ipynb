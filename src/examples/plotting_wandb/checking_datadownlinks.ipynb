{
 "cells": [
  {
   "cell_type": "markdown",
   "id": "de1d8ea5",
   "metadata": {},
   "source": [
    "## Setup Imports\n",
    "\n",
    "(not relevant to repo, can skip) \n",
    "\n",
    "Adding module path to run correctly in examples folder"
   ]
  },
  {
   "cell_type": "code",
   "execution_count": 2,
   "id": "113c2d25",
   "metadata": {},
   "outputs": [
    {
     "name": "stdout",
     "output_type": "stream",
     "text": [
      "/Users/gracekim/Documents/School_Everything_and_LEARNING/Stanford/Githubs/loc-gsopt/src\n"
     ]
    }
   ],
   "source": [
    "import sys\n",
    "import os\n",
    "import numpy as np\n",
    "\n",
    "# Add the path to the folder containing the module\n",
    "module_path = os.path.abspath(os.path.join('../..'))\n",
    "print(module_path)\n",
    "if module_path not in sys.path:\n",
    "    sys.path.append(module_path)"
   ]
  },
  {
   "cell_type": "code",
   "execution_count": null,
   "id": "8beab460",
   "metadata": {},
   "outputs": [
    {
     "name": "stdout",
     "output_type": "stream",
     "text": [
      "[[49.489581, 40.466124], [-3.87687500000004, 43.449398], [-58.7191239, -34.4107537], [-77.759132, 39.599098], [-122.28063, 38.244876], [138.619292, -34.81735], [140.373055555556, 36.5316666666667]]\n"
     ]
    },
    {
     "data": {
      "text/plain": [
       "<Figure size 640x480 with 1 Axes>"
      ]
     },
     "execution_count": 6,
     "metadata": {},
     "output_type": "execute_result"
    }
   ],
   "source": [
    "from common.plotting import plot_gif,plot_img\n",
    "import wandb\n",
    "import math\n",
    "\n",
    "api = wandb.Api()\n",
    "\n",
    "run = api.run(\"loc_gsopt/teleport_select_100_data_downlink_7_5=CAPELLA=3000000/rnloat3a\") #\"<entity>/<project>/<run_id>\")\n",
    "# plot_img(run.summary.gs_list,f\"gs_all.png\")\n",
    "# plot_img(run.summary.lat_long,f\"images/gs_all.png\")\n",
    "\n",
    "\n",
    "# runs = api.runs(\"loc_gsopt/free_nelder_data_downlink_5_6=CAPELLA=500000000\")\n",
    "# for index, run in enumerate(runs):\n",
    "#     plot_img(run.summary.gs_list,f\"gs_all_{index}.png\")"
   ]
  },
  {
   "cell_type": "code",
   "execution_count": null,
   "id": "2663e614",
   "metadata": {},
   "outputs": [],
   "source": [
    "from common.utils import load_earth_data,mp_compute_contact_times,contactExclusion # compute_earth_interior_angle\n",
    "from common.sat_gen import satellites_from_constellation\n",
    "import brahe as bh\n",
    "\n",
    "# Make sure to load in earth inertial data every start time!\n",
    "load_earth_data('data/iau2000A_finals_ab.txt',False)\n",
    "\n",
    "satellites = satellites_from_constellation(\"CAPELLA\", False)\n",
    "\n",
    "epc_start = bh.Epoch(2025, \n",
    "                         4, \n",
    "                         1, \n",
    "                         17, \n",
    "                         23, \n",
    "                         40.69) \n",
    "    \n",
    "epc_end = bh.Epoch(2025, \n",
    "                         4, \n",
    "                         8, \n",
    "                         17, \n",
    "                         23, \n",
    "                         40.69)  \n",
    "    \n",
    "\n",
    "contacts, _ = mp_compute_contact_times(satellites, run.summary.lat_long ,epc_start, epc_end, False)\n",
    "_, contacts_exclusion_secs = contactExclusion(contacts,cfg)\n",
    "run.summary[\"gs_list\"] = gs_list_plot \n",
    "run.summary[\"contact_num\"] = len(contacts_exclusion_secs) \n",
    "run.summary[\"seconds\"] = np.sum(contacts_exclusion_secs)\n",
    "run.summary[\"data_downlink\"] = np.sum(contacts_exclusion_secs)*cfg.scenario.datarate\n",
    "\n"
   ]
  }
 ],
 "metadata": {
  "kernelspec": {
   "display_name": ".venv",
   "language": "python",
   "name": "python3"
  },
  "language_info": {
   "codemirror_mode": {
    "name": "ipython",
    "version": 3
   },
   "file_extension": ".py",
   "mimetype": "text/x-python",
   "name": "python",
   "nbconvert_exporter": "python",
   "pygments_lexer": "ipython3",
   "version": "3.11.8"
  }
 },
 "nbformat": 4,
 "nbformat_minor": 5
}
