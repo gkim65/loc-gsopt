{
 "cells": [
  {
   "cell_type": "markdown",
   "id": "de1d8ea5",
   "metadata": {},
   "source": [
    "## Setup Imports\n",
    "\n",
    "(not relevant to repo, can skip) \n",
    "\n",
    "Adding module path to run correctly in examples folder"
   ]
  },
  {
   "cell_type": "code",
   "execution_count": 2,
   "id": "113c2d25",
   "metadata": {},
   "outputs": [
    {
     "name": "stdout",
     "output_type": "stream",
     "text": [
      "/Users/gracekim/Documents/School_Everything_and_LEARNING/Stanford/Githubs/loc-gsopt/src\n"
     ]
    }
   ],
   "source": [
    "import sys\n",
    "import os\n",
    "import numpy as np\n",
    "\n",
    "# Add the path to the folder containing the module\n",
    "module_path = os.path.abspath(os.path.join('../..'))\n",
    "print(module_path)\n",
    "if module_path not in sys.path:\n",
    "    sys.path.append(module_path)"
   ]
  },
  {
   "cell_type": "code",
   "execution_count": 3,
   "id": "8beab460",
   "metadata": {},
   "outputs": [],
   "source": [
    "from common.plotting import plot_gif,plot_img\n",
    "import wandb\n",
    "import math\n",
    "\n",
    "api = wandb.Api()\n",
    "run = api.run(\"loc_gsopt/teleport_select_100_data_downlink_10_5=CAPELLA=3000000/345h0ce0\")\n",
    "# run = api.run(\"loc_gsopt/teleport_select_100_data_downlink_7_5=CAPELLA=3000000/rnloat3a\") #\"<entity>/<project>/<run_id>\")\n",
    "# plot_img(run.summary.gs_list,f\"gs_all.png\")\n",
    "# plot_img(run.summary.lat_long,f\"images/gs_all.png\")\n",
    "\n",
    "\n",
    "# runs = api.runs(\"loc_gsopt/free_nelder_data_downlink_5_6=CAPELLA=500000000\")\n",
    "# for index, run in enumerate(runs):\n",
    "#     plot_img(run.summary.gs_list,f\"gs_all_{index}.png\")"
   ]
  },
  {
   "cell_type": "markdown",
   "id": "ecd51374",
   "metadata": {},
   "source": [
    "### Yaml"
   ]
  },
  {
   "cell_type": "code",
   "execution_count": 4,
   "id": "eced80ef",
   "metadata": {},
   "outputs": [
    {
     "name": "stdout",
     "output_type": "stream",
     "text": [
      "test_name: ''\n",
      "wandb:\n",
      "  entity: loc_gsopt\n",
      "problem:\n",
      "  type: free\n",
      "  method: nelder\n",
      "  objective: data_downlink\n",
      "  gs_num: 10\n",
      "  teleport_num: 10\n",
      "  sat_num: 5\n",
      "  data_rate: 1200000000\n",
      "scenario:\n",
      "  constellations: CAPELLA\n",
      "  start_simplex: 3\n",
      "  datarate: 1200000000.0\n",
      "  teleport_sites: {}\n",
      "constraints:\n",
      "  dist_other_gs: 3000000\n",
      "start_epoch:\n",
      "  year: 2025\n",
      "  month: 4\n",
      "  day: 1\n",
      "  hour: 17\n",
      "  minute: 23\n",
      "  second: 40.69\n",
      "end_epoch:\n",
      "  year: 2025\n",
      "  month: 4\n",
      "  day: 8\n",
      "  hour: 17\n",
      "  minute: 23\n",
      "  second: 40.69\n",
      "debug:\n",
      "  verbose: true\n",
      "  plot: true\n",
      "  wandb: true\n",
      "  txtUpdate: false\n",
      "  randseed: 0\n",
      "experiments:\n",
      "  simplexExclude: true\n",
      "  ccgs: 3\n",
      "\n"
     ]
    }
   ],
   "source": [
    "from omegaconf import OmegaConf\n",
    "import yaml\n",
    "\n",
    "# YAML configuration as a string\n",
    "yaml_config = \"\"\"\n",
    "test_name: \"\"\n",
    "\n",
    "wandb:\n",
    "  entity: \"loc_gsopt\"\n",
    "\n",
    "problem:\n",
    "  type: \"free\"\n",
    "  method: \"nelder\"\n",
    "  objective: \"data_downlink\"\n",
    "  gs_num: 10\n",
    "  teleport_num: 10\n",
    "  sat_num: 5\n",
    "  data_rate: 1200000000\n",
    "\n",
    "scenario:\n",
    "  constellations: \"CAPELLA\"\n",
    "  start_simplex: 3\n",
    "  datarate: 1200000000.0\n",
    "  teleport_sites: {}\n",
    "\n",
    "constraints:\n",
    "  dist_other_gs: 3000000\n",
    "\n",
    "start_epoch:\n",
    "  year: 2025\n",
    "  month: 4\n",
    "  day: 1\n",
    "  hour: 17\n",
    "  minute: 23\n",
    "  second: 40.69\n",
    "\n",
    "end_epoch:\n",
    "  year: 2025\n",
    "  month: 4\n",
    "  day: 8\n",
    "  hour: 17\n",
    "  minute: 23\n",
    "  second: 40.69\n",
    "\n",
    "debug:\n",
    "  verbose: True\n",
    "  plot: True\n",
    "  wandb: True\n",
    "  txtUpdate: False\n",
    "  randseed: 0\n",
    "\n",
    "experiments:\n",
    "  simplexExclude: True\n",
    "  ccgs: 3\n",
    "\"\"\"\n",
    "\n",
    "# Load YAML into a Python dictionary\n",
    "config_dict = yaml.safe_load(yaml_config)\n",
    "\n",
    "# Convert the dictionary into an OmegaConf object\n",
    "cfg = OmegaConf.create(config_dict)\n",
    "\n",
    "# Access the OmegaConf object\n",
    "print(OmegaConf.to_yaml(cfg))  # Print the configuration in YAML format"
   ]
  },
  {
   "cell_type": "markdown",
   "id": "2775553d",
   "metadata": {},
   "source": [
    "### CHecking Vedant"
   ]
  },
  {
   "cell_type": "code",
   "execution_count": 5,
   "id": "2663e614",
   "metadata": {},
   "outputs": [
    {
     "name": "stdout",
     "output_type": "stream",
     "text": [
      "Loading the latest Earth Orientation Data\n"
     ]
    }
   ],
   "source": [
    "from common.utils import load_earth_data,mp_compute_contact_times,contactExclusion # compute_earth_interior_angle\n",
    "from common.sat_gen import satellites_from_constellation\n",
    "import brahe as bh\n",
    "from common.station_gen import return_bdm_gs\n",
    "\n",
    "# Make sure to load in earth inertial data every start time!\n",
    "load_earth_data('data/iau2000A_finals_ab.txt',False)\n",
    "\n",
    "satellites = satellites_from_constellation(\"CAPELLA\", False)\n",
    "\n",
    "epc_start = bh.Epoch(2025, \n",
    "                         4, \n",
    "                         1, \n",
    "                         17, \n",
    "                         23, \n",
    "                         40.69) \n",
    "    \n",
    "epc_end = bh.Epoch(2025, \n",
    "                         4, \n",
    "                         8, \n",
    "                         17, \n",
    "                         23, \n",
    "                         40.69)  \n",
    "    \n",
    "\n",
    "gs_list = []\n",
    "for new_gs in run.summary.lat_long:\n",
    "    gs_list.append(return_bdm_gs(new_gs[0], new_gs[1]))\n",
    "\n",
    "contacts, _ = mp_compute_contact_times(satellites, gs_list ,epc_start, epc_end, False)\n",
    "_, contacts_exclusion_secs = contactExclusion(contacts,cfg)\n",
    "# run.summary[\"output_data\"] = gs_list_plot \n",
    "# run.summary[\"contact_num\"] = len(contacts_exclusion_secs) \n",
    "# run.summary[\"seconds\"] = np.sum(contacts_exclusion_secs)\n",
    "# run.summary[\"data_downlink\"] = np.sum(contacts_exclusion_secs)*cfg.scenario.datarate\n",
    "\n"
   ]
  },
  {
   "cell_type": "code",
   "execution_count": 6,
   "id": "77184f14",
   "metadata": {},
   "outputs": [
    {
     "data": {
      "text/plain": [
       "[Station(type='Feature', geometry=GeoJSONGeometry(type='Point', coordinates=[18.71868, -34.02762, 0.0]), properties=StationProperties(id=UUID('08af307e-e01f-4fd1-b9a7-31fece034a65'), station_name='', constraints=AccessConstraints(ascdsc=<AscendingDescending.either: 'either'>, look_direction=<LookDirection.either: 'either'>, look_angle_min=0.0, look_angle_max=90.0, elevation_min=10.0, elevation_max=90.0), downlink_rate_max=0.0)),\n",
       " Station(type='Feature', geometry=GeoJSONGeometry(type='Point', coordinates=[-157.8664848, 21.31494, 0.0]), properties=StationProperties(id=UUID('04812e7a-5c62-4255-9335-14997c80d493'), station_name='', constraints=AccessConstraints(ascdsc=<AscendingDescending.either: 'either'>, look_direction=<LookDirection.either: 'either'>, look_angle_min=0.0, look_angle_max=90.0, elevation_min=10.0, elevation_max=90.0), downlink_rate_max=0.0)),\n",
       " Station(type='Feature', geometry=GeoJSONGeometry(type='Point', coordinates=[141.2583617, 43.1732192, 0.0]), properties=StationProperties(id=UUID('522b16b2-937f-4b0d-a221-fc8f348c373e'), station_name='', constraints=AccessConstraints(ascdsc=<AscendingDescending.either: 'either'>, look_direction=<LookDirection.either: 'either'>, look_angle_min=0.0, look_angle_max=90.0, elevation_min=10.0, elevation_max=90.0), downlink_rate_max=0.0)),\n",
       " Station(type='Feature', geometry=GeoJSONGeometry(type='Point', coordinates=[168.3811515, -46.5288827, 0.0]), properties=StationProperties(id=UUID('95844e11-3bc2-4aab-83eb-e8caac507b73'), station_name='', constraints=AccessConstraints(ascdsc=<AscendingDescending.either: 'either'>, look_direction=<LookDirection.either: 'either'>, look_angle_min=0.0, look_angle_max=90.0, elevation_min=10.0, elevation_max=90.0), downlink_rate_max=0.0)),\n",
       " Station(type='Feature', geometry=GeoJSONGeometry(type='Point', coordinates=[115.941223, -31.880318, 0.0]), properties=StationProperties(id=UUID('1a56cd20-a69c-43f4-86b5-c562bb69f077'), station_name='', constraints=AccessConstraints(ascdsc=<AscendingDescending.either: 'either'>, look_direction=<LookDirection.either: 'either'>, look_angle_min=0.0, look_angle_max=90.0, elevation_min=10.0, elevation_max=90.0), downlink_rate_max=0.0)),\n",
       " Station(type='Feature', geometry=GeoJSONGeometry(type='Point', coordinates=[-111.951599, 40.783137, 0.0]), properties=StationProperties(id=UUID('308c56f1-b2eb-43bb-9dc5-24593af5c442'), station_name='', constraints=AccessConstraints(ascdsc=<AscendingDescending.either: 'either'>, look_direction=<LookDirection.either: 'either'>, look_angle_min=0.0, look_angle_max=90.0, elevation_min=10.0, elevation_max=90.0), downlink_rate_max=0.0)),\n",
       " Station(type='Feature', geometry=GeoJSONGeometry(type='Point', coordinates=[-52.7755931, 47.5609626, 0.0]), properties=StationProperties(id=UUID('04040107-5633-430c-baf6-e1bcb46bb739'), station_name='', constraints=AccessConstraints(ascdsc=<AscendingDescending.either: 'either'>, look_direction=<LookDirection.either: 'either'>, look_angle_min=0.0, look_angle_max=90.0, elevation_min=10.0, elevation_max=90.0), downlink_rate_max=0.0)),\n",
       " Station(type='Feature', geometry=GeoJSONGeometry(type='Point', coordinates=[-3.792241, 40.39759, 0.0]), properties=StationProperties(id=UUID('02f7e12a-55e2-4a34-a49b-3b7b457d50f8'), station_name='', constraints=AccessConstraints(ascdsc=<AscendingDescending.either: 'either'>, look_direction=<LookDirection.either: 'either'>, look_angle_min=0.0, look_angle_max=90.0, elevation_min=10.0, elevation_max=90.0), downlink_rate_max=0.0)),\n",
       " Station(type='Feature', geometry=GeoJSONGeometry(type='Point', coordinates=[44.904557, 41.6955548, 0.0]), properties=StationProperties(id=UUID('2bc4b5ef-8498-416d-8bb5-47d5654cf86d'), station_name='', constraints=AccessConstraints(ascdsc=<AscendingDescending.either: 'either'>, look_direction=<LookDirection.either: 'either'>, look_angle_min=0.0, look_angle_max=90.0, elevation_min=10.0, elevation_max=90.0), downlink_rate_max=0.0)),\n",
       " Station(type='Feature', geometry=GeoJSONGeometry(type='Point', coordinates=[-58.312699, -34.688141, 0.0]), properties=StationProperties(id=UUID('9050eb6e-9351-4bc9-b26e-5cbb6431077c'), station_name='', constraints=AccessConstraints(ascdsc=<AscendingDescending.either: 'either'>, look_direction=<LookDirection.either: 'either'>, look_angle_min=0.0, look_angle_max=90.0, elevation_min=10.0, elevation_max=90.0), downlink_rate_max=0.0))]"
      ]
     },
     "execution_count": 6,
     "metadata": {},
     "output_type": "execute_result"
    }
   ],
   "source": [
    "gs_list"
   ]
  },
  {
   "cell_type": "code",
   "execution_count": 7,
   "id": "caa363b3",
   "metadata": {},
   "outputs": [
    {
     "data": {
      "text/plain": [
       "792912192673200.0"
      ]
     },
     "execution_count": 7,
     "metadata": {},
     "output_type": "execute_result"
    }
   ],
   "source": [
    "np.sum(contacts_exclusion_secs)*cfg.scenario.datarate"
   ]
  },
  {
   "cell_type": "code",
   "execution_count": 8,
   "id": "4c76a927",
   "metadata": {},
   "outputs": [
    {
     "data": {
      "text/plain": [
       "792912192673200"
      ]
     },
     "execution_count": 8,
     "metadata": {},
     "output_type": "execute_result"
    }
   ],
   "source": [
    "run.summary[\"output_data\"]"
   ]
  },
  {
   "cell_type": "code",
   "execution_count": 6,
   "id": "cde1d739",
   "metadata": {},
   "outputs": [
    {
     "data": {
      "text/plain": [
       "[[-111.951599, 40.783137]]"
      ]
     },
     "execution_count": 6,
     "metadata": {},
     "output_type": "execute_result"
    }
   ],
   "source": [
    "run.summary.lat_long"
   ]
  },
  {
   "cell_type": "code",
   "execution_count": null,
   "id": "b3effb88",
   "metadata": {},
   "outputs": [],
   "source": []
  }
 ],
 "metadata": {
  "kernelspec": {
   "display_name": ".venv",
   "language": "python",
   "name": "python3"
  },
  "language_info": {
   "codemirror_mode": {
    "name": "ipython",
    "version": 3
   },
   "file_extension": ".py",
   "mimetype": "text/x-python",
   "name": "python",
   "nbconvert_exporter": "python",
   "pygments_lexer": "ipython3",
   "version": "3.11.8"
  }
 },
 "nbformat": 4,
 "nbformat_minor": 5
}
