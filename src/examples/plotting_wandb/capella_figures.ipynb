{
 "cells": [
  {
   "cell_type": "markdown",
   "id": "55ff1856",
   "metadata": {},
   "source": [
    "# Capella Experiments\n",
    "\n",
    "Using Capella examples for plots!"
   ]
  },
  {
   "cell_type": "markdown",
   "id": "d8bb500b",
   "metadata": {},
   "source": [
    "## Setup Imports\n",
    "\n",
    "(not relevant to repo, can skip) \n",
    "\n",
    "Adding module path to run correctly in examples folder"
   ]
  },
  {
   "cell_type": "code",
   "execution_count": 1,
   "id": "e80e90f3",
   "metadata": {},
   "outputs": [
    {
     "name": "stdout",
     "output_type": "stream",
     "text": [
      "/Users/gracekim/Documents/School_Everything_and_LEARNING/Stanford/Githubs/loc-gsopt/src\n"
     ]
    }
   ],
   "source": [
    "import sys\n",
    "import os\n",
    "import numpy as np\n",
    "\n",
    "# Add the path to the folder containing the module\n",
    "module_path = os.path.abspath(os.path.join('../..'))\n",
    "print(module_path)\n",
    "if module_path not in sys.path:\n",
    "    sys.path.append(module_path)"
   ]
  },
  {
   "cell_type": "markdown",
   "id": "19c0e841",
   "metadata": {},
   "source": [
    "# Additional Libraries"
   ]
  },
  {
   "cell_type": "code",
   "execution_count": 26,
   "id": "e604e651",
   "metadata": {},
   "outputs": [],
   "source": [
    "import wandb\n",
    "import math\n",
    "import matplotlib.pyplot as plt\n",
    "import seaborn as sns\n",
    "import pandas as pd\n",
    "import numpy as np\n"
   ]
  },
  {
   "cell_type": "markdown",
   "id": "046cee41",
   "metadata": {},
   "source": [
    "### Get all data from nelder mead experiments"
   ]
  },
  {
   "cell_type": "code",
   "execution_count": 86,
   "id": "fab83e20",
   "metadata": {},
   "outputs": [],
   "source": [
    "api = wandb.Api()\n",
    "\n",
    "data_downlink_list = []\n",
    "\n",
    "# Iterate through the ground station numbers and runs\n",
    "for i in [1, 2, 3, 4, 5, 7, 10, 15, 20]:\n",
    "    project_name = f\"loc_gsopt/free_nelder_data_downlink_{i}_5=CAPELLA=3000000\"\n",
    "    runs = api.runs(project_name)\n",
    "    for run in runs:\n",
    "        if run.state == \"finished\":\n",
    "            # Append each run's data as a dictionary to the list\n",
    "            data_downlink_list.append({\n",
    "                \"gs_number\": i,\n",
    "                \"data_downlinked\": run.summary.data_downlink/1000000\n",
    "            })\n",
    "\n",
    "# Convert the list of dictionaries into a pandas DataFrame\n",
    "data_downlink_df = pd.DataFrame(data_downlink_list)\n",
    "\n"
   ]
  },
  {
   "cell_type": "code",
   "execution_count": 109,
   "id": "4059ce58",
   "metadata": {},
   "outputs": [
    {
     "name": "stdout",
     "output_type": "stream",
     "text": [
      "<Run loc_gsopt/noExclusionSimplexfree_nelder_data_downlink_1_5%3DCAPELLA%3D3000000/wb9s9u4s (finished)>\n",
      "<Run loc_gsopt/noExclusionSimplexfree_nelder_data_downlink_1_5%3DCAPELLA%3D3000000/v36zpyao (finished)>\n",
      "<Run loc_gsopt/noExclusionSimplexfree_nelder_data_downlink_1_5%3DCAPELLA%3D3000000/r3zqexpf (finished)>\n",
      "<Run loc_gsopt/noExclusionSimplexfree_nelder_data_downlink_1_5%3DCAPELLA%3D3000000/u9f2xyay (finished)>\n",
      "<Run loc_gsopt/noExclusionSimplexfree_nelder_data_downlink_1_5%3DCAPELLA%3D3000000/i37feqbj (finished)>\n",
      "<Run loc_gsopt/noExclusionSimplexfree_nelder_data_downlink_2_5%3DCAPELLA%3D3000000/dxu5ly07 (finished)>\n",
      "<Run loc_gsopt/noExclusionSimplexfree_nelder_data_downlink_2_5%3DCAPELLA%3D3000000/vc9k16qg (finished)>\n",
      "<Run loc_gsopt/noExclusionSimplexfree_nelder_data_downlink_2_5%3DCAPELLA%3D3000000/kkm14hic (finished)>\n",
      "<Run loc_gsopt/noExclusionSimplexfree_nelder_data_downlink_2_5%3DCAPELLA%3D3000000/xrwah3i9 (finished)>\n",
      "<Run loc_gsopt/noExclusionSimplexfree_nelder_data_downlink_2_5%3DCAPELLA%3D3000000/4gqf1of9 (finished)>\n",
      "<Run loc_gsopt/noExclusionSimplexfree_nelder_data_downlink_3_5%3DCAPELLA%3D3000000/y71qzy5w (finished)>\n",
      "<Run loc_gsopt/noExclusionSimplexfree_nelder_data_downlink_3_5%3DCAPELLA%3D3000000/mjpn9qsc (finished)>\n",
      "<Run loc_gsopt/noExclusionSimplexfree_nelder_data_downlink_3_5%3DCAPELLA%3D3000000/8r2jxd4g (finished)>\n",
      "<Run loc_gsopt/noExclusionSimplexfree_nelder_data_downlink_3_5%3DCAPELLA%3D3000000/mjrckeb0 (finished)>\n",
      "<Run loc_gsopt/noExclusionSimplexfree_nelder_data_downlink_3_5%3DCAPELLA%3D3000000/5a2tswgd (finished)>\n",
      "<Run loc_gsopt/noExclusionSimplexfree_nelder_data_downlink_4_5%3DCAPELLA%3D3000000/t28az6k6 (finished)>\n",
      "<Run loc_gsopt/noExclusionSimplexfree_nelder_data_downlink_4_5%3DCAPELLA%3D3000000/ltjusid0 (finished)>\n",
      "<Run loc_gsopt/noExclusionSimplexfree_nelder_data_downlink_4_5%3DCAPELLA%3D3000000/3nxs17zy (finished)>\n",
      "<Run loc_gsopt/noExclusionSimplexfree_nelder_data_downlink_4_5%3DCAPELLA%3D3000000/uip2gton (finished)>\n",
      "<Run loc_gsopt/noExclusionSimplexfree_nelder_data_downlink_4_5%3DCAPELLA%3D3000000/6dmkcfqr (finished)>\n",
      "<Run loc_gsopt/noExclusionSimplexfree_nelder_data_downlink_5_5%3DCAPELLA%3D3000000/js97aa8m (finished)>\n",
      "<Run loc_gsopt/noExclusionSimplexfree_nelder_data_downlink_5_5%3DCAPELLA%3D3000000/g0s8fv4x (finished)>\n",
      "<Run loc_gsopt/noExclusionSimplexfree_nelder_data_downlink_5_5%3DCAPELLA%3D3000000/xemgqv4v (finished)>\n",
      "<Run loc_gsopt/noExclusionSimplexfree_nelder_data_downlink_5_5%3DCAPELLA%3D3000000/fb5q8h5o (finished)>\n",
      "<Run loc_gsopt/noExclusionSimplexfree_nelder_data_downlink_5_5%3DCAPELLA%3D3000000/6m5fj3rq (finished)>\n",
      "<Run loc_gsopt/noExclusionSimplexfree_nelder_data_downlink_7_5%3DCAPELLA%3D3000000/dqkdxk10 (finished)>\n",
      "<Run loc_gsopt/noExclusionSimplexfree_nelder_data_downlink_7_5%3DCAPELLA%3D3000000/s26d7o71 (running)>\n",
      "<Run loc_gsopt/noExclusionSimplexfree_nelder_data_downlink_10_5%3DCAPELLA%3D3000000/dzlcxbbg (finished)>\n",
      "<Run loc_gsopt/noExclusionSimplexfree_nelder_data_downlink_10_5%3DCAPELLA%3D3000000/5ry8e5ed (finished)>\n",
      "<Run loc_gsopt/noExclusionSimplexfree_nelder_data_downlink_10_5%3DCAPELLA%3D3000000/9v4qzhnf (finished)>\n",
      "<Run loc_gsopt/noExclusionSimplexfree_nelder_data_downlink_10_5%3DCAPELLA%3D3000000/gvb3xym7 (finished)>\n",
      "<Run loc_gsopt/noExclusionSimplexfree_nelder_data_downlink_10_5%3DCAPELLA%3D3000000/sugngpi1 (finished)>\n",
      "<Run loc_gsopt/noExclusionSimplexfree_nelder_data_downlink_15_5%3DCAPELLA%3D3000000/lo1rzob1 (finished)>\n",
      "<Run loc_gsopt/noExclusionSimplexfree_nelder_data_downlink_15_5%3DCAPELLA%3D3000000/uf1tz2og (running)>\n"
     ]
    }
   ],
   "source": [
    "api = wandb.Api()\n",
    "\n",
    "e_data_downlink_list = []\n",
    "\n",
    "# Iterate through the ground station numbers and runs\n",
    "for i in [1, 2, 3, 4, 5, 7, 10, 15]:#, 20]:\n",
    "    project_name = f\"noExclusionSimplexfree_nelder_data_downlink_{i}_5=CAPELLA=3000000\"\n",
    "    runs = api.runs(project_name)\n",
    "    for run in runs:\n",
    "        print(run)\n",
    "        if run.state == \"finished\":\n",
    "            # Append each run's data as a dictionary to the list\n",
    "            e_data_downlink_list.append({\n",
    "                \"gs_number\": i+0.5,\n",
    "                \"data_downlinked\": run.summary.data_downlink/1000000\n",
    "            })\n",
    "\n",
    "# Convert the list of dictionaries into a pandas DataFrame\n",
    "e_data_downlink_df = pd.DataFrame(e_data_downlink_list)\n",
    "\n"
   ]
  },
  {
   "cell_type": "markdown",
   "id": "4eb7c6bf",
   "metadata": {},
   "source": [
    "### Teleport Experiments"
   ]
  },
  {
   "cell_type": "code",
   "execution_count": 92,
   "id": "5adb811d",
   "metadata": {},
   "outputs": [],
   "source": [
    "api = wandb.Api()\n",
    "\n",
    "teleport_data_downlink_list = []\n",
    "\n",
    "# Iterate through the ground station numbers and runs\n",
    "for i in [1, 2, 3, 4, 5, 7, 10, 15, 20]:\n",
    "    project_name = f\"loc_gsopt/teleport_select_100_data_downlink_{i}_5=CAPELLA=3000000\"\n",
    "    runs = api.runs(project_name)\n",
    "    for run in runs:\n",
    "        if run.state == \"finished\":\n",
    "            # Append each run's data as a dictionary to the list\n",
    "            teleport_data_downlink_list.append({\n",
    "                \"gs_number\": i,\n",
    "                \"data_downlinked\": run.summary.output_data/1000000\n",
    "            })\n",
    "\n",
    "# Convert the list of dictionaries into a pandas DataFrame\n",
    "teleport_data_downlink_df = pd.DataFrame(teleport_data_downlink_list)\n",
    "\n"
   ]
  },
  {
   "cell_type": "markdown",
   "id": "386211cd",
   "metadata": {},
   "source": [
    "### KSAT Experiments"
   ]
  },
  {
   "cell_type": "code",
   "execution_count": 79,
   "id": "f1a96ed2",
   "metadata": {},
   "outputs": [
    {
     "name": "stdout",
     "output_type": "stream",
     "text": [
      "<Run loc_gsopt/KSAT_MILP_data_downlink_1_5%3DCAPELLA%3D3000000/ff532snj (finished)>\n",
      "<Run loc_gsopt/KSAT_MILP_data_downlink_2_5%3DCAPELLA%3D3000000/jytarj2b (finished)>\n",
      "<Run loc_gsopt/KSAT_MILP_data_downlink_3_5%3DCAPELLA%3D3000000/10wz7s2r (finished)>\n",
      "<Run loc_gsopt/KSAT_MILP_data_downlink_4_5%3DCAPELLA%3D3000000/cxacr13f (finished)>\n",
      "<Run loc_gsopt/KSAT_MILP_data_downlink_5_5%3DCAPELLA%3D3000000/bhidijng (finished)>\n",
      "<Run loc_gsopt/KSAT_MILP_data_downlink_5_5%3DCAPELLA%3D3000000/a5iapsdv (finished)>\n",
      "<Run loc_gsopt/KSAT_MILP_data_downlink_7_5%3DCAPELLA%3D3000000/dn5b2kny (finished)>\n",
      "<Run loc_gsopt/KSAT_MILP_data_downlink_10_5%3DCAPELLA%3D3000000/28ivxbda (finished)>\n",
      "<Run loc_gsopt/KSAT_MILP_data_downlink_15_5%3DCAPELLA%3D3000000/ktr4dcmi (finished)>\n",
      "<Run loc_gsopt/KSAT_MILP_data_downlink_20_5%3DCAPELLA%3D3000000/3do1h4th (finished)>\n"
     ]
    }
   ],
   "source": [
    "api = wandb.Api()\n",
    "\n",
    "ksat_data_downlink_list = []\n",
    "\n",
    "\n",
    "# Iterate through the ground station numbers and runs\n",
    "for i in [1, 2, 3, 4, 5, 7, 10, 15, 20]:\n",
    "    project_name = f\"loc_gsopt/KSAT_MILP_data_downlink_{i}_5=CAPELLA=3000000\"\n",
    "    runs = api.runs(project_name)\n",
    "    for run in runs:\n",
    "        if run.state == \"finished\":\n",
    "            print(run)\n",
    "            # Append each run's data as a dictionary to the list\n",
    "            ksat_data_downlink_list.append({\n",
    "                \"gs_number\": i,\n",
    "                \"data_downlinked\": run.summary[\"data_downlinked.total\"]/1000000\n",
    "            })\n",
    "\n",
    "# Convert the list of dictionaries into a pandas DataFrame\n",
    "ksat_data_downlink_df = pd.DataFrame(ksat_data_downlink_list)\n",
    "\n"
   ]
  },
  {
   "cell_type": "markdown",
   "id": "6a159add",
   "metadata": {},
   "source": [
    "### Making box plots"
   ]
  },
  {
   "cell_type": "code",
   "execution_count": 105,
   "id": "18415f67",
   "metadata": {},
   "outputs": [],
   "source": [
    "# Create a box plot with scatter overlay\n",
    "plt.figure(figsize=(8, 6))\n",
    "# Combine the DataFrames\n",
    "combined_df = pd.concat([data_downlink_df, e_data_downlink_df], ignore_index=True)\n",
    "\n",
    "sns.boxplot(x=\"gs_number\", y=\"data_downlinked\", data=combined_df, width=0.5, showcaps=True, boxprops={'facecolor':'None'})\n",
    "plt.scatter(x=\"gs_number\", y=\"data_downlinked\", data=data_downlink_df, color='black', s=5, alpha=0.7,)\n",
    "# sns.boxplot(x=\"gs_number\", y=\"data_downlinked\", data=e_data_downlink_df, width=0.5, showcaps=True, boxprops={'facecolor':'None'},color=\"orange\")\n",
    "plt.scatter(x=\"gs_number\", y=\"data_downlinked\", data=e_data_downlink_df, color='orange', s=5, alpha=0.7)\n",
    "plt.scatter(x=\"gs_number\", y=\"data_downlinked\", data=teleport_data_downlink_df, color='red', s=5, alpha=0.7)\n",
    "plt.scatter(x=\"gs_number\", y=\"data_downlinked\", data=ksat_data_downlink_df, color='blue', s=5, alpha=0.7)\n",
    "\n",
    "\n",
    "\n",
    "plt.title(\"Week long simulations of Nelder Mead V.S. Teleports\")\n",
    "plt.xlabel(\"Number of Ground Stations Selected\")\n",
    "plt.ylabel(\"Total Data Downlinked (MB)\")\n",
    "plt.legend(\n",
    "    handles=[\n",
    "        plt.Line2D([0], [0], marker='o', color='black', markersize=8, linestyle='None', label='Nelder Mead'), \n",
    "        plt.Line2D([0], [0], marker='o', color='orange', markersize=8, linestyle='None', label='Nelder Mead No Exclusion'), \n",
    "        plt.Line2D([0], [0], marker='o', color='red', markersize=8, linestyle='None', label='Teleports'),\n",
    "        plt.Line2D([0], [0], marker='o', color='blue', markersize=8, linestyle='None', label='KSAT')\n",
    "    ],\n",
    "    loc='upper left'\n",
    ")\n",
    "plt.tight_layout()\n",
    "plt.yscale(\"log\")\n",
    "plt.savefig(\"test.png\")"
   ]
  },
  {
   "cell_type": "code",
   "execution_count": 108,
   "id": "e5b1fc0e",
   "metadata": {},
   "outputs": [],
   "source": [
    "# Create a box plot with scatter overlay using plt.boxplot\n",
    "plt.figure(figsize=(8, 6))\n",
    "combined_df = pd.concat([data_downlink_df, e_data_downlink_df], ignore_index=True)\n",
    "\n",
    "# Prepare data for plt.boxplot\n",
    "box_data = [combined_df[combined_df[\"gs_number\"] == gs][\"data_downlinked\"].values for gs in sorted(combined_df[\"gs_number\"].unique())]\n",
    "box_positions = sorted(combined_df[\"gs_number\"].unique())\n",
    "\n",
    "# Create the box plot\n",
    "plt.boxplot(box_data, positions=box_positions, widths=0.5, patch_artist=True, boxprops=dict(facecolor='None', color='black'), showcaps=True)\n",
    "\n",
    "# Add scatter plots\n",
    "plt.scatter(data_downlink_df[\"gs_number\"], data_downlink_df[\"data_downlinked\"], color='black', s=5, alpha=0.7, label='Nelder Mead')\n",
    "plt.scatter(e_data_downlink_df[\"gs_number\"], e_data_downlink_df[\"data_downlinked\"], color='orange', s=5, alpha=0.7, label='Nelder Mead No Exclusion')\n",
    "plt.scatter(teleport_data_downlink_df[\"gs_number\"], teleport_data_downlink_df[\"data_downlinked\"], color='red', s=5, alpha=0.7, label='Teleports')\n",
    "plt.scatter(ksat_data_downlink_df[\"gs_number\"], ksat_data_downlink_df[\"data_downlinked\"], color='blue', s=5, alpha=0.7, label='KSAT')\n",
    "\n",
    "# Add title, labels, and legend\n",
    "plt.title(\"Week long simulations of Nelder Mead V.S. Teleports\")\n",
    "plt.xlabel(\"Number of Ground Stations Selected\")\n",
    "plt.ylabel(\"Total Data Downlinked (MB)\")\n",
    "plt.legend(\n",
    "    handles=[\n",
    "        plt.Line2D([0], [0], marker='o', color='black', markersize=8, linestyle='None', label='Nelder Mead'), \n",
    "        plt.Line2D([0], [0], marker='o', color='orange', markersize=8, linestyle='None', label='Nelder Mead No Exclusion'), \n",
    "        plt.Line2D([0], [0], marker='o', color='red', markersize=8, linestyle='None', label='Teleports'),\n",
    "        plt.Line2D([0], [0], marker='o', color='blue', markersize=8, linestyle='None', label='KSAT')\n",
    "    ],\n",
    "    loc='upper left'\n",
    ")\n",
    "\n",
    "# Adjust layout and scale\n",
    "plt.tight_layout()\n",
    "plt.yscale(\"log\")\n",
    "\n",
    "# Save the plot\n",
    "plt.savefig(\"test.png\")\n",
    "plt.show()"
   ]
  },
  {
   "cell_type": "code",
   "execution_count": null,
   "id": "795aa309",
   "metadata": {},
   "outputs": [],
   "source": []
  }
 ],
 "metadata": {
  "kernelspec": {
   "display_name": ".venv",
   "language": "python",
   "name": "python3"
  },
  "language_info": {
   "codemirror_mode": {
    "name": "ipython",
    "version": 3
   },
   "file_extension": ".py",
   "mimetype": "text/x-python",
   "name": "python",
   "nbconvert_exporter": "python",
   "pygments_lexer": "ipython3",
   "version": "3.11.8"
  }
 },
 "nbformat": 4,
 "nbformat_minor": 5
}
