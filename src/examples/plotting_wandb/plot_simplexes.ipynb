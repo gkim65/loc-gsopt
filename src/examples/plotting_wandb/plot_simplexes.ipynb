{
 "cells": [
  {
   "cell_type": "markdown",
   "metadata": {},
   "source": [
    "# `plot_simplexes` Example\n",
    "\n",
    "Downloading wandb run data to make simplex graph gifs!"
   ]
  },
  {
   "cell_type": "markdown",
   "metadata": {},
   "source": [
    "## Setup Imports\n",
    "\n",
    "(not relevant to repo, can skip) \n",
    "\n",
    "Adding module path to run correctly in examples folder"
   ]
  },
  {
   "cell_type": "code",
   "execution_count": null,
   "metadata": {},
   "outputs": [],
   "source": [
    "import sys\n",
    "import os\n",
    "import numpy as np\n",
    "\n",
    "# Add the path to the folder containing the module\n",
    "module_path = os.path.abspath(os.path.join('../..'))\n",
    "print(module_path)\n",
    "if module_path not in sys.path:\n",
    "    sys.path.append(module_path)"
   ]
  },
  {
   "cell_type": "code",
   "execution_count": null,
   "metadata": {},
   "outputs": [],
   "source": [
    "from common.plotting import plot_gif,plot_img\n",
    "import wandb\n",
    "import math\n"
   ]
  },
  {
   "cell_type": "code",
   "execution_count": null,
   "metadata": {},
   "outputs": [],
   "source": [
    "# !pip install wandb"
   ]
  },
  {
   "cell_type": "code",
   "execution_count": null,
   "metadata": {},
   "outputs": [],
   "source": [
    "api = wandb.Api()\n",
    "\n",
    "run = api.run(\"loc_gsopt/free_nelder_maximize_contact_seconds_2_1=ICEYE=500000/uf0kiz7v\") #\"<entity>/<project>/<run_id>\")\n",
    "simplexes = []\n",
    "if run.state == \"finished\":\n",
    "    for gs in range(2):\n",
    "        for i, row in run.history().iterrows():\n",
    "            if not math.isnan(row[f'log_of_simplexes_lat{gs}']):\n",
    "                simplexes.append([row[f'log_of_simplexes_lon{gs}'], row[f'log_of_simplexes_lat{gs}']])\n",
    "        plot_gif(simplexes,\"gs_\"+str(gs+1)+\".gif\",gs_list=run.summary.gs_list[0:gs],ind=gs)\n"
   ]
  },
  {
   "cell_type": "code",
   "execution_count": null,
   "metadata": {},
   "outputs": [],
   "source": [
    "\n",
    "plot_img(run.summary.gs_list,\"gs_all.png\")"
   ]
  }
 ],
 "metadata": {
  "kernelspec": {
   "display_name": "gsopt",
   "language": "python",
   "name": "python3"
  },
  "language_info": {
   "codemirror_mode": {
    "name": "ipython",
    "version": 3
   },
   "file_extension": ".py",
   "mimetype": "text/x-python",
   "name": "python",
   "nbconvert_exporter": "python",
   "pygments_lexer": "ipython3",
   "version": "3.11.9"
  }
 },
 "nbformat": 4,
 "nbformat_minor": 2
}
