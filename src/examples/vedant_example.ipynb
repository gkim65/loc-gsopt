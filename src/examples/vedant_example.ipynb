{
 "cells": [
  {
   "cell_type": "markdown",
   "metadata": {},
   "source": [
    "# Vedant - Example\n",
    "\n",
    "How to run contacts using the brahe library, with some additional functions in this repository!\n",
    "\n",
    "First, make sure to install the brahe library:\n",
    "\n",
    "```bash\n",
    "pip install git+https://github.com/duncaneddy/brahe.git@master matplotlib ipympl cartopy\n",
    "```"
   ]
  },
  {
   "cell_type": "markdown",
   "metadata": {},
   "source": [
    "## Setup Imports\n",
    "\n",
    "(not relevant to repo, can skip) \n",
    "\n",
    "Adding module path to run correctly in examples folder"
   ]
  },
  {
   "cell_type": "code",
   "execution_count": 1,
   "metadata": {},
   "outputs": [
    {
     "name": "stdout",
     "output_type": "stream",
     "text": [
      "/Users/vedantsrinivas/loc-gsopt/src\n"
     ]
    }
   ],
   "source": [
    "import sys\n",
    "import os\n",
    "\n",
    "\n",
    "# Add the path to the folder containing the module\n",
    "module_path = os.path.abspath(os.path.join('..'))\n",
    "print(module_path)\n",
    "if module_path not in sys.path:\n",
    "    sys.path.append(module_path)"
   ]
  },
  {
   "cell_type": "markdown",
   "metadata": {},
   "source": []
  },
  {
   "cell_type": "markdown",
   "metadata": {},
   "source": [
    "## Imports & Downloading latest Earth Orientation Data"
   ]
  },
  {
   "cell_type": "code",
   "execution_count": 2,
   "metadata": {},
   "outputs": [
    {
     "name": "stdout",
     "output_type": "stream",
     "text": [
      "Loading the latest Earth Orientation Data\n"
     ]
    }
   ],
   "source": [
    "from common.sat_gen import make_tle\n",
    "from common.station_gen import teleport_json\n",
    "from common.utils import load_earth_data, compute_all_gaps_contacts\n",
    "\n",
    "# Brahe Imports\n",
    "import brahe as bh\n",
    "import brahe.data_models as bdm\n",
    "import brahe.access.access as ba\n",
    "import numpy as np \n",
    "%matplotlib inline\n",
    "\n",
    "import matplotlib.pyplot as plt\n",
    "\n",
    "# Setup info\n",
    "load_earth_data('data/iau2000A_finals_ab.txt')"
   ]
  },
  {
   "cell_type": "markdown",
   "metadata": {},
   "source": [
    "## Generate Satellites Using TLEs"
   ]
  },
  {
   "cell_type": "code",
   "execution_count": 4,
   "metadata": {},
   "outputs": [
    {
     "name": "stdout",
     "output_type": "stream",
     "text": [
      "Our TLE looks like:\n",
      " 1 99999U          24141.00000000  .00000000  00000-0  00000-0 0    00\n",
      " 2 99999  53.0000  15.0000 0100000  30.0000  45.0000 15.05490874    07\n",
      "\n"
     ]
    }
   ],
   "source": [
    "##### Trying to generate a satellite just through tles ######\n",
    "\n",
    "# Create a TLE\n",
    "epc0 = bh.Epoch(2024, 5, 20, 0, 0, 0) # This is the epoch of the orbital elements\n",
    "alt  = 550 # Altitude in km\n",
    "ecc  = 0.01 # Eccentricity - Generally don't want it to be 0, so give it a small value 0.0001 to 0.01\n",
    "inc  = 53 # Inclination in degrees\n",
    "raan = 15 # Right Ascension of the Ascending Node in degrees\n",
    "argp = 30 # Argument of Perigee in degrees\n",
    "M    = 45 # Mean Anomaly in degrees\n",
    "norad_id = 99999 # NORAD ID of the satellite - This is just a placeholder, but we need a number.\n",
    "\n",
    "tle = make_tle(epc0, alt, ecc, inc, raan, argp, M, norad_id=norad_id)\n",
    "\n",
    "print(f'Our TLE looks like:\\n {tle.line1}\\n {tle.line2}\\n')\n",
    "\n",
    "sat1 = bdm.Spacecraft(\n",
    "    id=99999, # Might need to change this at one point\n",
    "    name=\"Sat1\",\n",
    "    line1=tle.line1,\n",
    "    line2=tle.line2,\n",
    ")"
   ]
  },
  {
   "cell_type": "markdown",
   "metadata": {},
   "source": [
    "## Load Ground Station Locations and Compute Contacts"
   ]
  },
  {
   "cell_type": "code",
   "execution_count": 5,
   "metadata": {},
   "outputs": [
    {
     "data": {
      "image/png": "[encoded data removed]",
      "text/plain": [
       "<Figure size 2000x700 with 1 Axes>"
      ]
     },
     "metadata": {},
     "output_type": "display_data"
    }
   ],
   "source": [
    "fig, ax = fig, ax =  plt.subplots(figsize=(20,7))\n",
    "\n",
    "# Ground station Locations\n",
    "stations = teleport_json('data/teleport_locations.json')\n",
    "\n",
    "# Computing Contacts for only one day\n",
    "epc1 = epc0 + 86400 # seconds in a day\n",
    "\n",
    "contacts_all = []\n",
    "\n",
    "######################## Plotting specific! ####################\n",
    "\n",
    "# going through computing contacts for all stations and all \n",
    "for station,id in zip(stations[0:2],range(len(stations[0:2]))):\n",
    "    contacts = ba.find_location_accesses(sat1,station,epc0,epc1)\n",
    "    for contact in contacts:\n",
    "        contacts_all.append(contact)\n",
    "    ax.broken_barh([(contacts[i].t_start,contacts[i].t_end-contacts[i].t_start) for i in range(len(contacts))], (id+0.05, 0.85),facecolors='tab:blue')\n",
    "\n",
    "ax.broken_barh([(contacts_all[i].t_start,contacts_all[i].t_end-contacts_all[i].t_start) for i in range(len(contacts_all))], (-0.95, 0.85),facecolors='tab:blue', label = \"contact times\")\n",
    "\n",
    "sorted_contacts = sorted(contacts_all, key=lambda t: t.t_start)\n",
    "all_gap_times = []\n",
    "\n",
    "current_t_end = sorted_contacts[0].t_end\n",
    "for contact in sorted_contacts:\n",
    "    if current_t_end < contact.t_end and current_t_end > contact.t_start:\n",
    "        current_t_end = contact.t_end\n",
    "    if current_t_end < contact.t_start:\n",
    "        all_gap_times.append((current_t_end,contact.t_start))\n",
    "        current_t_end = contact.t_end\n",
    "\n",
    "ax.broken_barh([(all_gap_times[i][0],all_gap_times[i][1]-all_gap_times[i][0]) for i in range(len(all_gap_times))], (-1.9, 0.85),facecolors='tab:green',label = \"gaptimes\")\n",
    "\n",
    "plt.ylabel(\"different ground station ids\")\n",
    "plt.xlabel(\"time period over a day\")\n",
    "plt.legend()\n",
    "plt.show()\n",
    "\n",
    "######################## Plotting specific! ####################\n",
    "\n"
   ]
  },
  {
   "cell_type": "markdown",
   "metadata": {},
   "source": [
    "### Just to see the gap times:"
   ]
  },
  {
   "cell_type": "code",
   "execution_count": 6,
   "metadata": {},
   "outputs": [
    {
     "name": "stdout",
     "output_type": "stream",
     "text": [
      "[4967.296453, 5039.893488, 5143.289483, 4977.351984, 5020.799249, 490.428168, 4041.651289, 12.378241, 363.613257, 2586.273505, 2622.958685, 2667.25556, 813.071576, 2618.104559, 1274.880359, 0.444947, 2472.433172, 1861.175537, 4916.35285, 4958.855291]\n"
     ]
    }
   ],
   "source": [
    "_, _, gaps_seconds = compute_all_gaps_contacts([sat1], stations[0:20] ,epc0, epc1, False)\n",
    "print(gaps_seconds)"
   ]
  },
  {
   "cell_type": "code",
   "execution_count": null,
   "metadata": {},
   "outputs": [],
   "source": []
  },
  {
   "cell_type": "code",
   "execution_count": 7,
   "metadata": {},
   "outputs": [
    {
     "data": {
      "text/plain": [
       "np.float64(2842.42538265)"
      ]
     },
     "execution_count": 7,
     "metadata": {},
     "output_type": "execute_result"
    }
   ],
   "source": [
    "np.mean(gaps_seconds)"
   ]
  },
  {
   "cell_type": "code",
   "execution_count": 10,
   "metadata": {},
   "outputs": [],
   "source": [
    "import gurobipy as gp\n",
    "from gurobipy import GRB\n",
    "from itertools import combinations\n",
    "import numpy as np\n",
    "from common.utils import compute_gaps_per_sat, gap_times_condense, gap_times\n",
    "ground_stations = stations[0:10]\n"
   ]
  },
  {
   "cell_type": "markdown",
   "metadata": {
    "slideshow": {
     "slide_type": "slide"
    }
   },
   "source": [
    "### Gap Minimization Objective Function ###"
   ]
  },
  {
   "cell_type": "code",
   "execution_count": 11,
   "metadata": {},
   "outputs": [
    {
     "name": "stdout",
     "output_type": "stream",
     "text": [
      "Gurobi Optimizer version 11.0.3 build v11.0.3rc0 (mac64[arm] - Darwin 22.5.0 22F82)\n",
      "\n",
      "CPU model: Apple M1\n",
      "Thread count: 8 physical cores, 8 logical processors, using up to 8 threads\n",
      "\n",
      "Optimize a model with 1203 rows, 131 columns and 2651 nonzeros\n",
      "Model fingerprint: 0xc95df3e6\n",
      "Variable types: 1 continuous, 130 integer (130 binary)\n",
      "Coefficient statistics:\n",
      "  Matrix range     [1e+00, 8e+04]\n",
      "  Objective range  [1e+00, 1e+00]\n",
      "  Bounds range     [1e+00, 1e+00]\n",
      "  RHS range        [1e+00, 3e+00]\n",
      "Presolve removed 1182 rows and 1 columns\n",
      "Presolve time: 0.01s\n",
      "Presolved: 21 rows, 130 columns, 1230 nonzeros\n",
      "Variable types: 0 continuous, 130 integer (130 binary)\n",
      "Found heuristic solution: objective 73416.654055\n",
      "\n",
      "Explored 0 nodes (0 simplex iterations) in 0.01 seconds (0.01 work units)\n",
      "Thread count was 8 (of 8 available processors)\n",
      "\n",
      "Solution count 1: 73416.7 \n",
      "\n",
      "Optimal solution found (tolerance 1.00e-04)\n",
      "Best objective 7.341665405500e+04, best bound 7.341665405500e+04, gap 0.0000%\n",
      "\n",
      "Optimal solution found!\n",
      "Selected Station 0\n",
      "Selected Station 6\n",
      "Selected Station 7\n",
      "\n",
      "Total gap time: 73416.65 seconds\n",
      "\n",
      "Gaps between contacts using selected stations:\n",
      "Gap 1: 17813.95 seconds\n",
      "Gap 2: 5382.92 seconds\n",
      "Gap 3: 5289.87 seconds\n",
      "Gap 4: 5382.75 seconds\n",
      "Gap 5: 1403.39 seconds\n",
      "Gap 6: 3253.79 seconds\n",
      "Gap 7: 1025.70 seconds\n",
      "Gap 8: 3230.56 seconds\n",
      "Gap 9: 790.26 seconds\n",
      "Gap 10: 3265.44 seconds\n",
      "Gap 11: 926.30 seconds\n",
      "Gap 12: 5086.49 seconds\n",
      "Gap 13: 0.44 seconds\n",
      "Gap 14: 5058.68 seconds\n",
      "Gap 15: 4916.35 seconds\n",
      "Gap 16: 4959.03 seconds\n",
      "Gap 17: 3826.21 seconds\n",
      "Gap 18: 1804.50 seconds\n"
     ]
    }
   ],
   "source": [
    "# Create optimization model- current objective function finds all combinations and then passes to gurobi\n",
    "model = gp.Model(\"ground_station_selection\")\n",
    "\n",
    "# Create binary variables for ground station selection\n",
    "x = {}\n",
    "station_contacts = {}\n",
    "\n",
    "# First get all contacts and store them\n",
    "for i, station in enumerate(ground_stations):\n",
    "    contacts = ba.find_location_accesses(sat1, station, epc0, epc1)\n",
    "    station_contacts[i] = {\n",
    "        'contacts': contacts,\n",
    "        'station': station\n",
    "    }\n",
    "    x[i] = model.addVar(vtype=GRB.BINARY, name=f\"station_{i}\")\n",
    "\n",
    "# Add constraint to select exactly MAX_STATIONS ground stations\n",
    "MAX_STATIONS = 3  # Reduced for testing\n",
    "model.addConstr(gp.quicksum(x.values()) == MAX_STATIONS, \"exact_stations\")\n",
    "\n",
    "# Create variable for total gap time\n",
    "total_gap = model.addVar(name=\"total_gap\")\n",
    "\n",
    "# Create binary variables for each possible combination\n",
    "combo_vars = {}\n",
    "for combo in combinations(range(len(ground_stations)), MAX_STATIONS):\n",
    "    combo_vars[combo] = model.addVar(vtype=GRB.BINARY, name=f\"combo_{'_'.join(map(str, combo))}\")\n",
    "\n",
    "# Only one combination can be selected\n",
    "model.addConstr(gp.quicksum(combo_vars.values()) == 1)\n",
    "\n",
    "# Link station selection variables with combination variables\n",
    "for combo, var in combo_vars.items():\n",
    "    # If combo is selected, corresponding stations must be selected\n",
    "    for i in combo:\n",
    "        model.addConstr(x[i] >= var)\n",
    "    # If combo is selected, non-combo stations must not be selected\n",
    "    for i in range(len(ground_stations)):\n",
    "        if i not in combo:\n",
    "            model.addConstr(x[i] <= 1 - var)\n",
    "\n",
    "# Calculate gap time for each combination and link to total gap\n",
    "gap_constrs = []\n",
    "for combo, var in combo_vars.items():\n",
    "    # Get all contacts for this combination\n",
    "    combo_contacts = []\n",
    "    for station_id in combo:\n",
    "        combo_contacts.extend(station_contacts[station_id]['contacts'])\n",
    "    \n",
    "    # Calculate gap time for this combination\n",
    "    _, gaps_seconds = gap_times_condense(combo_contacts, epc0.to_datetime(), epc1.to_datetime())\n",
    "    gap_time = sum(gaps_seconds)\n",
    "    \n",
    "    # When this combo is selected, contribute its gap time to total\n",
    "    gap_constrs.append(gap_time * var)\n",
    "\n",
    "# Total gap is sum of all selected combination gaps\n",
    "model.addConstr(total_gap == gp.quicksum(gap_constrs))\n",
    "\n",
    "# Set objective to minimize total gap time\n",
    "model.setObjective(total_gap, GRB.MINIMIZE)\n",
    "\n",
    "# Optimize\n",
    "model.optimize()\n",
    "\n",
    "# Print results\n",
    "if model.status == GRB.OPTIMAL:\n",
    "    print(\"\\nOptimal solution found!\")\n",
    "    \n",
    "    # Get selected stations\n",
    "    selected_stations = []\n",
    "    for i in x:\n",
    "        if x[i].x > 0.5:\n",
    "            selected_stations.append(i)\n",
    "            print(f\"Selected Station {i}\")\n",
    "\n",
    "    # Collect all contacts from selected stations\n",
    "    selected_contacts = []\n",
    "    for station_id in selected_stations:\n",
    "        selected_contacts.extend(station_contacts[station_id]['contacts'])\n",
    "    \n",
    "    # Calculate actual gaps using gap_times_condense\n",
    "    all_gap_times, gaps_seconds = gap_times_condense(selected_contacts, epc0.to_datetime(), epc1.to_datetime())\n",
    "    \n",
    "    # Calculate and print total gap time\n",
    "    total_gap_time = sum(gaps_seconds)\n",
    "    print(f\"\\nTotal gap time: {total_gap_time:.2f} seconds\")\n",
    "    \n",
    "    # Print individual gaps\n",
    "    print(\"\\nGaps between contacts using selected stations:\")\n",
    "    for i, gap_time in enumerate(gaps_seconds):\n",
    "        print(f\"Gap {i+1}: {gap_time:.2f} seconds\")\n",
    "\n",
    "else:\n",
    "    print(\"No optimal solution found\")"
   ]
  },
  {
   "cell_type": "code",
   "execution_count": 12,
   "metadata": {},
   "outputs": [
    {
     "data": {
      "image/png": "[encoded data removed]",
      "text/plain": [
       "<Figure size 2000x700 with 1 Axes>"
      ]
     },
     "metadata": {},
     "output_type": "display_data"
    }
   ],
   "source": [
    "# Visualization\n",
    "fig, ax = plt.subplots(figsize=(20,7))\n",
    "\n",
    "selected_station_ids = [i for i in x if x[i].x > 0.5]\n",
    "contacts_all = []\n",
    "\n",
    "for idx in range(len(selected_station_ids)):\n",
    "    station_id = selected_station_ids[idx]\n",
    "    contacts = station_contacts[station_id]['contacts']\n",
    "    for contact in contacts:\n",
    "        contacts_all.append(contact)\n",
    "    ax.broken_barh([(contact.t_start, contact.t_end-contact.t_start)\n",
    "                    for contact in contacts],\n",
    "                    (idx*3, 0.95), facecolors='tab:blue')\n",
    "\n",
    "ax.broken_barh([(contact.t_start, contact.t_end-contact.t_start)\n",
    "                for contact in contacts_all],\n",
    "                (-3, 0.95),\n",
    "                facecolors='tab:blue',\n",
    "                label=\"contact times\")\n",
    "\n",
    "# Use gap_times_condense from utils.py\n",
    "all_gap_times, gaps_seconds = gap_times_condense(contacts_all, epc0.to_datetime(), epc1.to_datetime())\n",
    "\n",
    "ax.broken_barh([(gap[0], gap[1]-gap[0]) \n",
    "                for gap in all_gap_times],\n",
    "                (-6, 2.5),\n",
    "                facecolors='tab:green',\n",
    "                label=\"gap times\")\n",
    "\n",
    "ax.set_yticks(range(-6, len(selected_station_ids)*3, 3))\n",
    "ax.set_yticklabels(['Gaps', 'All'] + [f'Station {sid}' for sid in selected_station_ids])\n",
    "\n",
    "ax.set_ylim(-8, len(selected_station_ids)*3 + 2)\n",
    "plt.ylabel(\"different ground station ids\")\n",
    "plt.xlabel(\"time period over a day\")\n",
    "plt.legend()\n",
    "plt.show()"
   ]
  },
  {
   "cell_type": "markdown",
   "metadata": {},
   "source": [
    "### Draft Gap Minimization Objective Function- does not work currently ###"
   ]
  },
  {
   "cell_type": "code",
   "execution_count": 25,
   "metadata": {},
   "outputs": [
    {
     "ename": "GurobiError",
     "evalue": "Unable to convert argument to an expression",
     "output_type": "error",
     "traceback": [
      "\u001b[0;31m---------------------------------------------------------------------------\u001b[0m",
      "\u001b[0;31mGurobiError\u001b[0m                               Traceback (most recent call last)",
      "Cell \u001b[0;32mIn[25], line 41\u001b[0m\n\u001b[1;32m     36\u001b[0m     \u001b[38;5;28;01mreturn\u001b[39;00m np\u001b[38;5;241m.\u001b[39mmean(gaps_seconds[\u001b[38;5;241m0\u001b[39m]) \u001b[38;5;28;01mif\u001b[39;00m gaps_seconds \u001b[38;5;28;01melse\u001b[39;00m \u001b[38;5;28mfloat\u001b[39m(\u001b[38;5;124m'\u001b[39m\u001b[38;5;124minf\u001b[39m\u001b[38;5;124m'\u001b[39m)\n\u001b[1;32m     38\u001b[0m \u001b[38;5;66;03m# Set objective using lambda\u001b[39;00m\n\u001b[1;32m     39\u001b[0m \u001b[38;5;66;03m#print(\"x\",x)\u001b[39;00m\n\u001b[1;32m     40\u001b[0m \u001b[38;5;66;03m#print(\"stations\",[x[0].X])\u001b[39;00m\n\u001b[0;32m---> 41\u001b[0m \u001b[43mmodel\u001b[49m\u001b[38;5;241;43m.\u001b[39;49m\u001b[43msetObjective\u001b[49m\u001b[43m(\u001b[49m\u001b[38;5;28;43;01mlambda\u001b[39;49;00m\u001b[43m:\u001b[49m\u001b[43m \u001b[49m\u001b[43mcalculate_total_gap\u001b[49m\u001b[43m(\u001b[49m\u001b[43m[\u001b[49m\u001b[43mx\u001b[49m\u001b[43m[\u001b[49m\u001b[43mi\u001b[49m\u001b[43m]\u001b[49m\u001b[38;5;241;43m.\u001b[39;49m\u001b[43mX\u001b[49m\u001b[43m \u001b[49m\u001b[38;5;28;43;01mfor\u001b[39;49;00m\u001b[43m \u001b[49m\u001b[43mi\u001b[49m\u001b[43m \u001b[49m\u001b[38;5;129;43;01min\u001b[39;49;00m\u001b[43m \u001b[49m\u001b[43mx\u001b[49m\u001b[43m]\u001b[49m\u001b[43m)\u001b[49m\u001b[43m,\u001b[49m\u001b[43m \u001b[49m\u001b[43mGRB\u001b[49m\u001b[38;5;241;43m.\u001b[39;49m\u001b[43mMINIMIZE\u001b[49m\u001b[43m)\u001b[49m\n\u001b[1;32m     43\u001b[0m \u001b[38;5;66;03m# Set NonConvex parameter to allow nonlinear optimization\u001b[39;00m\n\u001b[1;32m     44\u001b[0m model\u001b[38;5;241m.\u001b[39mParams\u001b[38;5;241m.\u001b[39mNonConvex \u001b[38;5;241m=\u001b[39m \u001b[38;5;241m2\u001b[39m\n",
      "File \u001b[0;32msrc/gurobipy/model.pxi:1488\u001b[0m, in \u001b[0;36mgurobipy.Model.setObjective\u001b[0;34m()\u001b[0m\n",
      "File \u001b[0;32msrc/gurobipy/util.pxi:44\u001b[0m, in \u001b[0;36mgurobipy._simpleexpr\u001b[0;34m()\u001b[0m\n",
      "\u001b[0;31mGurobiError\u001b[0m: Unable to convert argument to an expression"
     ]
    }
   ],
   "source": [
    "# Trying new objective function instead of calculating combs\n",
    "# Create optimization model\n",
    "model = gp.Model(\"ground_station_selection\")\n",
    "\n",
    "# Create binary variables for ground station selection\n",
    "x = {}\n",
    "station_contacts = {}\n",
    "\n",
    "# First get all contacts and store them\n",
    "for i, station in enumerate(ground_stations):\n",
    "    contacts = ba.find_location_accesses(sat1, station, epc0, epc1)\n",
    "    station_contacts[i] = {\n",
    "        'contacts': contacts,\n",
    "        'station': station\n",
    "    }\n",
    "    x[i] = model.addVar(vtype=GRB.BINARY, name=f\"station_{i}\")\n",
    "\n",
    "# Add constraint to select exactly MAX_STATIONS ground stations\n",
    "MAX_STATIONS = 2\n",
    "model.addConstr(gp.quicksum(x.values()) == MAX_STATIONS, \"exact_stations\")\n",
    "\n",
    "def calculate_total_gap(selected_stations):\n",
    "    \"\"\"Calculate total gap time for selected stations\"\"\"\n",
    "    # Get all contacts for selected stations\n",
    "    stations_list = []\n",
    "    for i in range(len(ground_stations)):\n",
    "        if selected_stations[i] > 0.5:  # If station is selected\n",
    "            stations_list.append(station_contacts[i]['station'])\n",
    "    \n",
    "    # Use compute_gaps_per_sat to calculate gaps\n",
    "    if not stations_list:\n",
    "        return float('inf')  # Penalize invalid solutions\n",
    "        \n",
    "    _, _, gaps_seconds = compute_gaps_per_sat([sat1], stations_list, epc0, epc1, plot=False)\n",
    "    print(\"selected stations\",selected_stations)\n",
    "    return np.mean(gaps_seconds[0]) if gaps_seconds else float('inf')\n",
    "\n",
    "# Set objective using lambda\n",
    "#print(\"x\",x)\n",
    "#print(\"stations\",[x[0].X])\n",
    "model.setObjective(lambda: calculate_total_gap([x[i].X for i in x]), GRB.MINIMIZE)\n",
    "\n",
    "# Set NonConvex parameter to allow nonlinear optimization\n",
    "model.Params.NonConvex = 2\n",
    "\n",
    "# Optimize\n",
    "model.optimize()\n",
    "\n",
    "# Print results\n",
    "if model.status == GRB.OPTIMAL:\n",
    "    print(\"\\nOptimal solution found!\")\n",
    "    \n",
    "    # Get selected stations\n",
    "    selected_stations = []\n",
    "    selected_station_objs = []\n",
    "    for i in x:\n",
    "        if x[i].x > 0.5:\n",
    "            selected_stations.append(i)\n",
    "            selected_station_objs.append(station_contacts[i]['station'])\n",
    "            print(f\"Selected Station {i}\")\n",
    "\n",
    "    # Calculate gaps using compute_gaps_per_sat\n",
    "    _, all_gap_times, gaps_seconds = compute_gaps_per_sat([sat1], selected_station_objs, epc0, epc1, plot=False)\n",
    "    \n",
    "    # Calculate and print total gap time\n",
    "    total_gap_time = sum(gaps_seconds[0])  # Take first satellite's gaps\n",
    "    print(f\"\\nTotal gap time: {total_gap_time:.2f} seconds\")\n",
    "    \n",
    "    # Print individual gaps\n",
    "    print(\"\\nGaps between contacts using selected stations:\")\n",
    "    for i, gap_time in enumerate(gaps_seconds[0]):\n",
    "        print(f\"Gap {i+1}: {gap_time:.2f} seconds\")\n",
    "\n",
    "else:\n",
    "    print(\"No optimal solution found\")"
   ]
  },
  {
   "cell_type": "markdown",
   "metadata": {},
   "source": [
    "### Data Downlink Optimization ###\n",
    "\n"
   ]
  },
  {
   "cell_type": "code",
   "execution_count": 13,
   "metadata": {},
   "outputs": [
    {
     "name": "stdout",
     "output_type": "stream",
     "text": [
      "Gurobi Optimizer version 11.0.3 build v11.0.3rc0 (mac64[arm] - Darwin 22.5.0 22F82)\n",
      "\n",
      "CPU model: Apple M1\n",
      "Thread count: 8 physical cores, 8 logical processors, using up to 8 threads\n",
      "\n",
      "Optimize a model with 2 rows, 11 columns and 21 nonzeros\n",
      "Model fingerprint: 0x6270592d\n",
      "Variable types: 1 continuous, 10 integer (10 binary)\n",
      "Coefficient statistics:\n",
      "  Matrix range     [1e+00, 5e+04]\n",
      "  Objective range  [1e+00, 1e+00]\n",
      "  Bounds range     [1e+00, 1e+00]\n",
      "  RHS range        [5e+00, 5e+00]\n",
      "Presolve removed 2 rows and 11 columns\n",
      "Presolve time: 0.00s\n",
      "Presolve: All rows and columns removed\n",
      "\n",
      "Explored 0 nodes (0 simplex iterations) in 0.00 seconds (0.00 work units)\n",
      "Thread count was 1 (of 8 available processors)\n",
      "\n",
      "Solution count 1: 233305 \n",
      "\n",
      "Optimal solution found (tolerance 1.00e-04)\n",
      "Best objective 2.333049133200e+05, best bound 2.333049133200e+05, gap 0.0000%\n",
      "\n",
      "Optimal solution found!\n",
      "Selected Station 0\n",
      "Selected Station 1\n",
      "Selected Station 6\n",
      "Selected Station 7\n",
      "Selected Station 9\n",
      "\n",
      "Data volume per station and satellite:\n",
      "\n",
      "Station 0:\n",
      "  Satellite 99999: 45205.77 Megabits\n",
      "  Station Total: 45205.77 Megabits\n",
      "\n",
      "Station 1:\n",
      "  Satellite 99999: 47293.21 Megabits\n",
      "  Station Total: 47293.21 Megabits\n",
      "\n",
      "Station 6:\n",
      "  Satellite 99999: 49784.07 Megabits\n",
      "  Station Total: 49784.07 Megabits\n",
      "\n",
      "Station 7:\n",
      "  Satellite 99999: 47303.25 Megabits\n",
      "  Station Total: 47303.25 Megabits\n",
      "\n",
      "Station 9:\n",
      "  Satellite 99999: 43718.61 Megabits\n",
      "  Station Total: 43718.61 Megabits\n",
      "\n",
      "Total data volume across all selected stations: 233304.91 Megabits\n"
     ]
    },
    {
     "data": {
      "image/png": "[encoded data removed]",
      "text/plain": [
       "<Figure size 2000x700 with 1 Axes>"
      ]
     },
     "metadata": {},
     "output_type": "display_data"
    }
   ],
   "source": [
    "# Create optimization model for maximizing data downlink across multiple satellites\n",
    "model = gp.Model(\"ground_station_selection\")\n",
    "\n",
    "# Create binary variables for ground station selection\n",
    "x = {}\n",
    "station_contacts = {}\n",
    "\n",
    "# Create list of satellites\n",
    "satellites = [sat1]  # Add more satellites to this list as needed\n",
    "\n",
    "# First get all contacts and store them for each satellite-station pair\n",
    "for i, station in enumerate(ground_stations):\n",
    "    station_contacts[i] = {\n",
    "        'contacts': {},\n",
    "        'station': station\n",
    "    }\n",
    "    for sat in satellites:\n",
    "        contacts = ba.find_location_accesses(sat, station, epc0, epc1)\n",
    "        station_contacts[i]['contacts'][sat.id] = contacts\n",
    "    x[i] = model.addVar(vtype=GRB.BINARY, name=f\"station_{i}\")\n",
    "\n",
    "# Add constraint to select exactly MAX_STATIONS ground stations\n",
    "MAX_STATIONS = 5\n",
    "model.addConstr(gp.quicksum(x.values()) == MAX_STATIONS, \"exact_stations\")\n",
    "\n",
    "# Create variable for total data volume\n",
    "total_data = model.addVar(name=\"total_data\")\n",
    "\n",
    "# Calculate data volume for each combination and link to total data\n",
    "data_constrs = []\n",
    "for i in x:\n",
    "    station_data = 0\n",
    "    # Get contacts for this station for each satellite\n",
    "    for sat in satellites:\n",
    "        contacts = station_contacts[i]['contacts'][sat.id]\n",
    "        \n",
    "        # Calculate data volume for these contacts\n",
    "        # Assuming a constant data rate during contact periods\n",
    "        data_rate = 10  # Mbps (example value)\n",
    "        sat_station_data = sum((contact.t_end - contact.t_start).total_seconds() * data_rate for contact in contacts)\n",
    "        station_data += sat_station_data\n",
    "    \n",
    "    # When this station is selected, contribute its data volume to total\n",
    "    data_constrs.append(station_data * x[i])\n",
    "\n",
    "# Total data is sum of all selected station data volumes\n",
    "model.addConstr(total_data == gp.quicksum(data_constrs))\n",
    "\n",
    "# Set objective to maximize total data volume\n",
    "model.setObjective(total_data, GRB.MAXIMIZE)\n",
    "\n",
    "# Optimize\n",
    "model.optimize()\n",
    "\n",
    "# Print results\n",
    "if model.status == GRB.OPTIMAL:\n",
    "    print(\"\\nOptimal solution found!\")\n",
    "    \n",
    "    # Get selected stations\n",
    "    selected_stations = []\n",
    "    selected_station_objs = []\n",
    "    for i in x:\n",
    "        if x[i].x > 0.5:\n",
    "            selected_stations.append(i)\n",
    "            selected_station_objs.append(station_contacts[i]['station'])\n",
    "            print(f\"Selected Station {i}\")\n",
    "\n",
    "    # Calculate total data volume\n",
    "    total_data_volume = 0\n",
    "    print(\"\\nData volume per station and satellite:\")\n",
    "    for station_id in selected_stations:\n",
    "        station_total = 0\n",
    "        print(f\"\\nStation {station_id}:\")\n",
    "        for sat in satellites:\n",
    "            contacts = station_contacts[station_id]['contacts'][sat.id]\n",
    "            sat_data = sum((contact.t_end - contact.t_start).total_seconds() * data_rate for contact in contacts)\n",
    "            station_total += sat_data\n",
    "            print(f\"  Satellite {sat.id}: {sat_data:.2f} Megabits\")\n",
    "        print(f\"  Station Total: {station_total:.2f} Megabits\")\n",
    "        total_data_volume += station_total\n",
    "    \n",
    "    print(f\"\\nTotal data volume across all selected stations: {total_data_volume:.2f} Megabits\")\n",
    "\n",
    "else:\n",
    "    print(\"No optimal solution found\")\n",
    "\n",
    "# Visualization\n",
    "fig, ax = plt.subplots(figsize=(20,7))\n",
    "\n",
    "# Plot contacts for each selected station and satellite\n",
    "plot_offset = 0\n",
    "for station_idx, station_id in enumerate(selected_stations):\n",
    "    for sat_idx, sat in enumerate(satellites):\n",
    "        contacts = station_contacts[station_id]['contacts'][sat.id]\n",
    "        y_pos = plot_offset + sat_idx\n",
    "        ax.broken_barh([(contact.t_start, contact.t_end-contact.t_start) \n",
    "                        for contact in contacts],\n",
    "                        (y_pos, 0.8),\n",
    "                        facecolors=f'C{station_idx}',\n",
    "                        alpha=0.6,\n",
    "                        label=f'Station {station_id}, Sat {sat.id}' if sat_idx == 0 else \"\")\n",
    "    plot_offset += len(satellites) + 1\n",
    "\n",
    "ax.set_yticks([i + 0.4 for i in range(0, plot_offset, len(satellites) + 1)])\n",
    "ax.set_yticklabels([f'Station {sid}' for sid in selected_stations])\n",
    "\n",
    "plt.ylabel(\"Ground Stations\")\n",
    "plt.xlabel(\"Time period over a day\")\n",
    "plt.title(\"Contact Windows for Selected Ground Stations\")\n",
    "plt.legend()\n",
    "plt.grid(True)\n",
    "plt.show()"
   ]
  }
 ],
 "metadata": {
  "kernelspec": {
   "display_name": "Python 3",
   "language": "python",
   "name": "python3"
  },
  "language_info": {
   "codemirror_mode": {
    "name": "ipython",
    "version": 3
   },
   "file_extension": ".py",
   "mimetype": "text/x-python",
   "name": "python",
   "nbconvert_exporter": "python",
   "pygments_lexer": "ipython3",
   "version": "3.11.9"
  }
 },
 "nbformat": 4,
 "nbformat_minor": 2
}
