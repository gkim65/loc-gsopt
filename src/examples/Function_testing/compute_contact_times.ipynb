{
 "cells": [
  {
   "cell_type": "markdown",
   "metadata": {},
   "source": [
    "# `compute_contact_times` Example\n",
    "\n",
    "Testing the `compute_contact_times` function in `loc-gsopt/src/common/utils.py`"
   ]
  },
  {
   "cell_type": "markdown",
   "metadata": {},
   "source": [
    "## Setup Imports\n",
    "\n",
    "(not relevant to repo, can skip) \n",
    "\n",
    "Adding module path to run correctly in examples folder"
   ]
  },
  {
   "cell_type": "code",
   "execution_count": 1,
   "metadata": {},
   "outputs": [
    {
     "name": "stdout",
     "output_type": "stream",
     "text": [
      "/Users/gracekim/Documents/School_Everything_and_LEARNING/Stanford/Githubs/loc-gsopt/src\n"
     ]
    }
   ],
   "source": [
    "import sys\n",
    "import os\n",
    "import numpy as np\n",
    "\n",
    "# Add the path to the folder containing the module\n",
    "module_path = os.path.abspath(os.path.join('../..'))\n",
    "print(module_path)\n",
    "if module_path not in sys.path:\n",
    "    sys.path.append(module_path)"
   ]
  },
  {
   "cell_type": "markdown",
   "metadata": {},
   "source": [
    "## Imports & Downloading latest Earth Orientation Data"
   ]
  },
  {
   "cell_type": "code",
   "execution_count": 2,
   "metadata": {},
   "outputs": [
    {
     "name": "stdout",
     "output_type": "stream",
     "text": [
      "Loading the latest Earth Orientation Data\n"
     ]
    }
   ],
   "source": [
    "# from common.sat_gen import make_tle\n",
    "# from common.station_gen import gs_json\n",
    "from common.utils import compute_contact_times, load_earth_data,mp_compute_contact_times\n",
    "from common.sat_gen import satellites_from_constellation\n",
    "from common.station_gen import return_bdm_gs\n",
    "\n",
    "\n",
    "# Brahe Imports\n",
    "import brahe as bh\n",
    "import brahe.data_models as bdm\n",
    "import brahe.access.access as ba\n",
    "import multiprocessing as mp\n",
    "\n",
    "\n",
    "\n",
    "%matplotlib inline\n",
    "import matplotlib.pyplot as plt\n",
    "\n",
    "# Setup info\n",
    "load_earth_data('data/iau2000A_finals_ab.txt')"
   ]
  },
  {
   "cell_type": "markdown",
   "metadata": {},
   "source": [
    "## Scenario Development"
   ]
  },
  {
   "cell_type": "code",
   "execution_count": 12,
   "metadata": {},
   "outputs": [],
   "source": [
    "##### Trying to generate a satellite just through tles ######\n",
    "\n",
    "# Create a TLE\n",
    "epc_start = bh.Epoch(2025, 4, 1, 17, 23, 40.69) # This is the epoch of the orbital elements\n",
    "epc_end = bh.Epoch(2025, 4, 8, 17, 23, 40.69)\n",
    "satellites = satellites_from_constellation(\"CAPELLA\")\n",
    "\n",
    "ground_stations = []\n",
    "\n",
    "# gs_list = [[37.09497170671422, 40.450882204488494], [61.63342713787408, 40.56768555325875], [55.32706006606998, 37.631986727162655], [-59.33476991738089, 40.378492817106824], [-67.29411618406957, 39.023695448552544]]\n",
    "gs_list = [[22.69, 38.82], [143.45, 42.6], [-66.1,-33.2], [25.13, 36.99], [168.38,-46.53]]\n",
    "gs_list = [[37.09448973202146, 40.449800713862366], [-12.871555503005073, -37.8840174526803], [130.91013047875538, 38.337363929137595], [78.30572166111048, -38.81669830641558], [85.97952156656379, 40.4554859605074]]\n",
    " #[[92.44410570135645, -90.0], [-73.01224079830891, -89.95426045890125], [-4.078723407808447, -89.95514937821778]]\n",
    "for gs in gs_list:\n",
    "    ground_stations.append(return_bdm_gs(gs[0], gs[1]))\n",
    "\n",
    "plot = True\n",
    "title=\"contact_times_chart.png\"\n"
   ]
  },
  {
   "cell_type": "code",
   "execution_count": 13,
   "metadata": {},
   "outputs": [
    {
     "data": {
      "text/plain": [
       "datetime.datetime(2025, 4, 1, 17, 23, 40, 690000)"
      ]
     },
     "execution_count": 13,
     "metadata": {},
     "output_type": "execute_result"
    }
   ],
   "source": [
    "epc_start.to_datetime()"
   ]
  },
  {
   "cell_type": "code",
   "execution_count": 14,
   "metadata": {},
   "outputs": [],
   "source": [
    "all_contacts, contact_times_seconds = mp_compute_contact_times(satellites,ground_stations,epc_start,epc_end, plot,title)\n"
   ]
  },
  {
   "cell_type": "code",
   "execution_count": 15,
   "metadata": {},
   "outputs": [],
   "source": [
    "contact_times_seconds = [(contact.t_end - contact.t_start).total_seconds() for contact in all_contacts]\n"
   ]
  },
  {
   "cell_type": "code",
   "execution_count": 16,
   "metadata": {},
   "outputs": [
    {
     "data": {
      "text/plain": [
       "1113"
      ]
     },
     "execution_count": 16,
     "metadata": {},
     "output_type": "execute_result"
    }
   ],
   "source": [
    "len(all_contacts)"
   ]
  },
  {
   "cell_type": "markdown",
   "metadata": {},
   "source": [
    "## Getting only one contact per satellite"
   ]
  },
  {
   "cell_type": "code",
   "execution_count": 17,
   "metadata": {},
   "outputs": [],
   "source": [
    "from pyomo.environ import *\n",
    "from itertools import combinations, groupby\n",
    "import pyomo.kernel as pk\n",
    "\n",
    "def contactExclusion(contacts):\n",
    "    \"\"\"\n",
    "    Solves the contact exclusion problem using a pairwise overlap constraint approach.\n",
    "    \"\"\"\n",
    "\n",
    "    model = ConcreteModel()\n",
    "\n",
    "    # to call contacts in the correct order \n",
    "    contacts_order = {\n",
    "        str(contact.id):i\n",
    "        for i, contact in enumerate(contacts)\n",
    "    }\n",
    "\n",
    "\n",
    "    # Decision variables: x[c] = 1 if contact c is selected, 0 otherwise\n",
    "    model.x = Var(range(len(contacts)), within=Binary)\n",
    "\n",
    "    # Objective: Maximize total scheduled duration\n",
    "    model.obj = Objective(\n",
    "        expr=sum(model.x[i] * contact.t_duration \n",
    "                 for i, contact in enumerate(contacts)), \n",
    "        sense=maximize\n",
    "    )\n",
    "\n",
    "    # Constraint list to ensure no overlapping contacts\n",
    "    model.constraints = ConstraintList()\n",
    "\n",
    "    # Ensure that no two overlapping contacts for the same station are selected\n",
    "    contacts_sorted_by_station = sorted(contacts, key=lambda cn: cn.station_id)\n",
    "\n",
    "    for station_id, station_contacts in groupby(contacts_sorted_by_station, lambda cn: cn.station_id):\n",
    "\n",
    "        # Convert groupby object to a sorted list (groupby creates an iterator)\n",
    "        station_contacts = sorted(list(station_contacts), key=lambda cn: cn.t_start)\n",
    "\n",
    "        # Test all pairs of contacts to check for overlap\n",
    "        for x, y in combinations(station_contacts, 2):\n",
    "            if x.t_start <= y.t_end and y.t_start <= x.t_end:\n",
    "                model.constraints.add(model.x[contacts_order[str(x.id)]] + model.x[contacts_order[str(y.id)]] <= 1)\n",
    "\n",
    "    # Ensure that no two overlapping contacts for the same satellite are selected\n",
    "    contacts_sorted_by_satellite = sorted(contacts, key=lambda cn: cn.spacecraft_id)\n",
    "\n",
    "    for sat_id, satellite_contacts in groupby(contacts_sorted_by_satellite, lambda cn: cn.spacecraft_id):\n",
    "\n",
    "        # Convert groupby object to a sorted list\n",
    "        satellite_contacts = sorted(list(satellite_contacts), key=lambda cn: cn.t_start)\n",
    "\n",
    "        # Test all pairs of contacts to check for overlap\n",
    "        for x, y in combinations(satellite_contacts, 2):\n",
    "            if x.t_start <= y.t_end and y.t_start <= x.t_end:\n",
    "                model.constraints.add(model.x[contacts_order[str(x.id)]] + model.x[contacts_order[str(y.id)]] <= 1)\n",
    "\n",
    "    # miminum duration constraint\n",
    "    for cn in contacts:\n",
    "        if cn.t_duration <= 180:\n",
    "            # Force all contacts with duration less than the minimum to be zero\n",
    "            model.constraints.add(model.x[contacts_order[str(cn.id)]] == 0)\n",
    "\n",
    "    # Solve the model\n",
    "    solver = SolverFactory('cbc')\n",
    "    solver.solve(model)\n",
    "\n",
    "    # Extract selected contacts\n",
    "    selected_contacts = [contact for i, contact in enumerate(contacts) if value(model.x[i]) > 0.75]\n",
    "    contact_times_seconds = [(contact.t_end - contact.t_start).total_seconds() for contact in selected_contacts]\n",
    "\n",
    "    return selected_contacts, contact_times_seconds\n"
   ]
  },
  {
   "cell_type": "code",
   "execution_count": 18,
   "metadata": {},
   "outputs": [],
   "source": [
    "selected_contacts, contact_times_seconds = contactExclusion(all_contacts)"
   ]
  },
  {
   "cell_type": "code",
   "execution_count": 19,
   "metadata": {},
   "outputs": [
    {
     "data": {
      "text/plain": [
       "978"
      ]
     },
     "execution_count": 19,
     "metadata": {},
     "output_type": "execute_result"
    }
   ],
   "source": [
    "len(selected_contacts)"
   ]
  },
  {
   "cell_type": "code",
   "execution_count": 20,
   "metadata": {},
   "outputs": [
    {
     "data": {
      "text/plain": [
       "485073949231200.0"
      ]
     },
     "execution_count": 20,
     "metadata": {},
     "output_type": "execute_result"
    }
   ],
   "source": [
    "np.sum(contact_times_seconds)*1200000000\n"
   ]
  },
  {
   "cell_type": "code",
   "execution_count": null,
   "metadata": {},
   "outputs": [
    {
     "data": {
      "text/plain": [
       "1059932282965200.0"
      ]
     },
     "execution_count": 21,
     "metadata": {},
     "output_type": "execute_result"
    }
   ],
   "source": [
    "np.sum(contact_times_seconds)-379118#*1200 - \n"
   ]
  },
  {
   "cell_type": "code",
   "execution_count": 22,
   "metadata": {},
   "outputs": [
    {
     "data": {
      "text/plain": [
       "454941600000000"
      ]
     },
     "execution_count": 22,
     "metadata": {},
     "output_type": "execute_result"
    }
   ],
   "source": [
    "1200000000*379118"
   ]
  },
  {
   "cell_type": "code",
   "execution_count": 151,
   "metadata": {},
   "outputs": [
    {
     "data": {
      "text/plain": [
       "-292065804938399.9"
      ]
     },
     "execution_count": 151,
     "metadata": {},
     "output_type": "execute_result"
    }
   ],
   "source": [
    "454942360106400.0 - 747008165044799.9"
   ]
  },
  {
   "cell_type": "code",
   "execution_count": 40,
   "metadata": {},
   "outputs": [
    {
     "data": {
      "text/plain": [
       "-27229.048469"
      ]
     },
     "execution_count": 40,
     "metadata": {},
     "output_type": "execute_result"
    }
   ],
   "source": [
    "(403281039552000.0   - 435955897714800.0)/1200000000"
   ]
  },
  {
   "cell_type": "code",
   "execution_count": 35,
   "metadata": {},
   "outputs": [
    {
     "data": {
      "text/plain": [
       "1734845.1135049423"
      ]
     },
     "execution_count": 35,
     "metadata": {},
     "output_type": "execute_result"
    }
   ],
   "source": [
    "\n",
    "from geopy.distance import geodesic\n",
    "\n",
    "geodesic((37.09497170671422, 40.450882204488494), (37.09497170671422, 60)).meters\n",
    "# def penalty_gs_all(new_gs,current_gs_list, dist_penalty):\n",
    "#     penalty_sum = 0\n",
    "#     for current_gs in current_gs_list:\n",
    "#         dist = geodesic((new_gs[1], new_gs[0]), (current_gs.geometry.coordinates[1], current_gs.geometry.coordinates[0])).meters\n",
    "#         if dist < dist_penalty:\n",
    "#             penalty_sum += dist_penalty - dist\n",
    "#     return penalty_sum"
   ]
  },
  {
   "cell_type": "code",
   "execution_count": 30,
   "metadata": {},
   "outputs": [
    {
     "data": {
      "text/plain": [
       "0.0"
      ]
     },
     "execution_count": 30,
     "metadata": {},
     "output_type": "execute_result"
    }
   ],
   "source": [
    "dist"
   ]
  },
  {
   "cell_type": "code",
   "execution_count": 36,
   "metadata": {},
   "outputs": [
    {
     "data": {
      "text/plain": [
       "73140367200.0"
      ]
     },
     "execution_count": 36,
     "metadata": {},
     "output_type": "execute_result"
    }
   ],
   "source": [
    "403354179919200.0 - 403281039552000.0 "
   ]
  },
  {
   "cell_type": "code",
   "execution_count": 37,
   "metadata": {},
   "outputs": [
    {
     "data": {
      "text/plain": [
       "60.950306"
      ]
     },
     "execution_count": 37,
     "metadata": {},
     "output_type": "execute_result"
    }
   ],
   "source": [
    "73140367200.0/ 1200000000"
   ]
  },
  {
   "cell_type": "code",
   "execution_count": null,
   "metadata": {},
   "outputs": [],
   "source": []
  }
 ],
 "metadata": {
  "kernelspec": {
   "display_name": "gsopt",
   "language": "python",
   "name": "python3"
  },
  "language_info": {
   "codemirror_mode": {
    "name": "ipython",
    "version": 3
   },
   "file_extension": ".py",
   "mimetype": "text/x-python",
   "name": "python",
   "nbconvert_exporter": "python",
   "pygments_lexer": "ipython3",
   "version": "3.11.9"
  }
 },
 "nbformat": 4,
 "nbformat_minor": 2
}
