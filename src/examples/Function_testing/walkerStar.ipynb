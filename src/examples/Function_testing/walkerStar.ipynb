{
 "cells": [
  {
   "cell_type": "markdown",
   "id": "4b2639d8",
   "metadata": {},
   "source": [
    "# Making Walker Stars\n",
    "\n",
    "Prepping for computation experiments\n"
   ]
  },
  {
   "cell_type": "markdown",
   "id": "a5e77649",
   "metadata": {},
   "source": [
    "## Setup Imports\n",
    "\n",
    "(not relevant to repo, can skip) \n",
    "\n",
    "Adding module path to run correctly in examples folder"
   ]
  },
  {
   "cell_type": "code",
   "execution_count": 2,
   "id": "1f2dcc0c",
   "metadata": {},
   "outputs": [
    {
     "name": "stdout",
     "output_type": "stream",
     "text": [
      "/Users/gracekim/Documents/School_Everything_and_LEARNING/Stanford/Githubs/loc-gsopt/src\n"
     ]
    }
   ],
   "source": [
    "import sys\n",
    "import os\n",
    "\n",
    "\n",
    "# Add the path to the folder containing the module\n",
    "module_path = os.path.abspath(os.path.join('../..'))\n",
    "print(module_path)\n",
    "if module_path not in sys.path:\n",
    "    sys.path.append(module_path)"
   ]
  },
  {
   "cell_type": "markdown",
   "id": "696c1c77",
   "metadata": {},
   "source": []
  },
  {
   "cell_type": "markdown",
   "id": "af7766b4",
   "metadata": {},
   "source": [
    "## Imports & Downloading latest Earth Orientation Data"
   ]
  },
  {
   "cell_type": "code",
   "execution_count": 6,
   "id": "8f93601e",
   "metadata": {},
   "outputs": [
    {
     "name": "stdout",
     "output_type": "stream",
     "text": [
      "Loading the latest Earth Orientation Data\n"
     ]
    }
   ],
   "source": [
    "from common.sat_gen import make_tle\n",
    "from common.station_gen import teleport_json\n",
    "from common.utils import load_earth_data, compute_all_gaps_contacts\n",
    "\n",
    "# Brahe Imports\n",
    "import brahe as bh\n",
    "import brahe.data_models as bdm\n",
    "import brahe.access.access as ba\n",
    "import numpy as np \n",
    "%matplotlib inline\n",
    "\n",
    "import matplotlib.pyplot as plt\n",
    "\n",
    "# Setup info\n",
    "load_earth_data('data/iau2000A_finals_ab.txt')"
   ]
  },
  {
   "cell_type": "markdown",
   "id": "20412dae",
   "metadata": {},
   "source": [
    "## Walker Constellation"
   ]
  },
  {
   "cell_type": "code",
   "execution_count": 14,
   "id": "08a5ea2f",
   "metadata": {},
   "outputs": [],
   "source": [
    "def make_walker_constellation(\n",
    "    epoch=bh.Epoch(2024, 5, 20, 0, 0, 0),\n",
    "    altitude_km=550,\n",
    "    eccentricity=0.001,\n",
    "    inclination=90,\n",
    "    num_planes=6,\n",
    "    sats_per_plane=4,\n",
    "    phase=1,\n",
    "    argp=0.0,\n",
    "    norad_start=10000,\n",
    "    star = True,\n",
    "):\n",
    "    \"\"\"\n",
    "    Generate a Walker-Delta constellation and return a list of Spacecraft objects.\n",
    "    \"\"\"\n",
    "    total_sats = num_planes * sats_per_plane\n",
    "    plane_spacing = 180 if star else 360  # Key difference between Star/Delta\n",
    "    constellation = []\n",
    "\n",
    "    for p in range(num_planes):\n",
    "        raan = (plane_spacing * p / num_planes)\n",
    "        for s in range(sats_per_plane):\n",
    "            mean_anomaly = (360/sats_per_plane) * ((s + phase*p) % sats_per_plane)\n",
    "            # mean_anomaly = (360.0 * s / sats_per_plane + p * walker_delta * 360.0 / total_sats) % 360.0\n",
    "            norad_id = norad_start + p * sats_per_plane + s\n",
    "            \n",
    "            # Create TLE using your make_tle function\n",
    "            tle = make_tle(\n",
    "                epc0=epoch,\n",
    "                alt=altitude_km,\n",
    "                ecc=eccentricity,\n",
    "                inc=inclination,\n",
    "                raan=raan,\n",
    "                argp=argp,\n",
    "                M=mean_anomaly,\n",
    "                norad_id=norad_id\n",
    "            )\n",
    "\n",
    "            sat_name = f\"Sat_{p}_{s}\"\n",
    "            sat_obj = bdm.Spacecraft(\n",
    "                id=norad_id,\n",
    "                name=sat_name,\n",
    "                line1=tle.line1,\n",
    "                line2=tle.line2,\n",
    "            )\n",
    "            constellation.append(sat_obj)\n",
    "\n",
    "    return constellation"
   ]
  },
  {
   "cell_type": "code",
   "execution_count": null,
   "id": "36f5dae5",
   "metadata": {},
   "outputs": [
    {
     "data": {
      "text/plain": [
       "[Spacecraft(id=10000, name='Sat_0_0', line1='1 10000U          24141.00000000  .00000000  00000-0  00000-0 0    06', line2='2 10000  56.0000   0.0000 0000000   0.0000   0.0000  1.70475587    08', model=None)]"
      ]
     },
     "execution_count": 16,
     "metadata": {},
     "output_type": "execute_result"
    }
   ],
   "source": [
    "# delta testing out for galieo\n",
    "\n",
    "make_walker_constellation(\n",
    "    epoch=bh.Epoch(2024, 5, 20, 0, 0, 0),\n",
    "    altitude_km=23222,        # MEO altitude (~23,222 km for Galileo)\n",
    "    eccentricity=0.0,         # Near-circular orbit (Walker standard)\n",
    "    inclination=56.0,         # Mid-latitude inclination (not polar)\n",
    "    num_planes=3,             # 3 planes for 360° coverage\n",
    "    sats_per_plane=8,         # 24 total satellites (3×8)\n",
    "    phase=1,                  # Phasing parameter F=1 (Galileo uses 1)\n",
    "    argp=0.0,                 # Standard for circular orbits\n",
    "    norad_start=10000,\n",
    "    star=False                # Critical: Disables 180° plane clustering\n",
    ")\n"
   ]
  },
  {
   "cell_type": "code",
   "execution_count": null,
   "id": "1d90fe13",
   "metadata": {},
   "outputs": [
    {
     "data": {
      "text/plain": [
       "[Spacecraft(id=10000, name='Iridium_0_0', line1='1 10000U          24141.00000000  .00000000  00000-0  00000-0 0    06', line2='2 10000  86.4000   0.0000 0010000   0.0000   0.0000 14.33216553    05', model=None),\n",
       " Spacecraft(id=10001, name='Iridium_0_1', line1='1 10001U          24141.00000000  .00000000  00000-0  00000-0 0    07', line2='2 10001  86.4000   0.0000 0010000   0.0000  32.7273 14.33216553    00', model=None),\n",
       " Spacecraft(id=10002, name='Iridium_0_2', line1='1 10002U          24141.00000000  .00000000  00000-0  00000-0 0    08', line2='2 10002  86.4000   0.0000 0010000   0.0000  65.4545 14.33216553    06', model=None),\n",
       " Spacecraft(id=10003, name='Iridium_0_3', line1='1 10003U          24141.00000000  .00000000  00000-0  00000-0 0    09', line2='2 10003  86.4000   0.0000 0010000   0.0000  98.1818 14.33216553    03', model=None),\n",
       " Spacecraft(id=10004, name='Iridium_0_4', line1='1 10004U          24141.00000000  .00000000  00000-0  00000-0 0    00', line2='2 10004  86.4000   0.0000 0010000   0.0000 130.9091 14.33216553    02', model=None),\n",
       " Spacecraft(id=10005, name='Iridium_0_5', line1='1 10005U          24141.00000000  .00000000  00000-0  00000-0 0    01', line2='2 10005  86.4000   0.0000 0010000   0.0000 163.6364 14.33216553    09', model=None),\n",
       " Spacecraft(id=10006, name='Iridium_0_6', line1='1 10006U          24141.00000000  .00000000  00000-0  00000-0 0    02', line2='2 10006  86.4000   0.0000 0010000   0.0000 196.3636 14.33216553    05', model=None),\n",
       " Spacecraft(id=10007, name='Iridium_0_7', line1='1 10007U          24141.00000000  .00000000  00000-0  00000-0 0    03', line2='2 10007  86.4000   0.0000 0010000   0.0000 229.0909 14.33216553    03', model=None),\n",
       " Spacecraft(id=10008, name='Iridium_0_8', line1='1 10008U          24141.00000000  .00000000  00000-0  00000-0 0    04', line2='2 10008  86.4000   0.0000 0010000   0.0000 261.8182 14.33216553    01', model=None),\n",
       " Spacecraft(id=10009, name='Iridium_0_9', line1='1 10009U          24141.00000000  .00000000  00000-0  00000-0 0    05', line2='2 10009  86.4000   0.0000 0010000   0.0000 294.5455 14.33216553    08', model=None),\n",
       " Spacecraft(id=10010, name='Iridium_0_10', line1='1 10010U          24141.00000000  .00000000  00000-0  00000-0 0    07', line2='2 10010  86.4000   0.0000 0010000   0.0000 327.2727 14.33216553    06', model=None),\n",
       " Spacecraft(id=10011, name='Iridium_1_0', line1='1 10011U          24141.00000000  .00000000  00000-0  00000-0 0    08', line2='2 10011  86.4000  30.0000 0010000   0.0000  65.4545 14.33216553    09', model=None),\n",
       " Spacecraft(id=10012, name='Iridium_1_1', line1='1 10012U          24141.00000000  .00000000  00000-0  00000-0 0    09', line2='2 10012  86.4000  30.0000 0010000   0.0000  98.1818 14.33216553    06', model=None),\n",
       " Spacecraft(id=10013, name='Iridium_1_2', line1='1 10013U          24141.00000000  .00000000  00000-0  00000-0 0    00', line2='2 10013  86.4000  30.0000 0010000   0.0000 130.9091 14.33216553    05', model=None),\n",
       " Spacecraft(id=10014, name='Iridium_1_3', line1='1 10014U          24141.00000000  .00000000  00000-0  00000-0 0    01', line2='2 10014  86.4000  30.0000 0010000   0.0000 163.6364 14.33216553    02', model=None),\n",
       " Spacecraft(id=10015, name='Iridium_1_4', line1='1 10015U          24141.00000000  .00000000  00000-0  00000-0 0    02', line2='2 10015  86.4000  30.0000 0010000   0.0000 196.3636 14.33216553    08', model=None),\n",
       " Spacecraft(id=10016, name='Iridium_1_5', line1='1 10016U          24141.00000000  .00000000  00000-0  00000-0 0    03', line2='2 10016  86.4000  30.0000 0010000   0.0000 229.0909 14.33216553    06', model=None),\n",
       " Spacecraft(id=10017, name='Iridium_1_6', line1='1 10017U          24141.00000000  .00000000  00000-0  00000-0 0    04', line2='2 10017  86.4000  30.0000 0010000   0.0000 261.8182 14.33216553    04', model=None),\n",
       " Spacecraft(id=10018, name='Iridium_1_7', line1='1 10018U          24141.00000000  .00000000  00000-0  00000-0 0    05', line2='2 10018  86.4000  30.0000 0010000   0.0000 294.5455 14.33216553    01', model=None),\n",
       " Spacecraft(id=10019, name='Iridium_1_8', line1='1 10019U          24141.00000000  .00000000  00000-0  00000-0 0    06', line2='2 10019  86.4000  30.0000 0010000   0.0000 327.2727 14.33216553    08', model=None),\n",
       " Spacecraft(id=10020, name='Iridium_1_9', line1='1 10020U          24141.00000000  .00000000  00000-0  00000-0 0    08', line2='2 10020  86.4000  30.0000 0010000   0.0000   0.0000 14.33216553    00', model=None),\n",
       " Spacecraft(id=10021, name='Iridium_1_10', line1='1 10021U          24141.00000000  .00000000  00000-0  00000-0 0    09', line2='2 10021  86.4000  30.0000 0010000   0.0000  32.7273 14.33216553    05', model=None),\n",
       " Spacecraft(id=10022, name='Iridium_2_0', line1='1 10022U          24141.00000000  .00000000  00000-0  00000-0 0    00', line2='2 10022  86.4000  60.0000 0010000   0.0000 130.9091 14.33216553    08', model=None),\n",
       " Spacecraft(id=10023, name='Iridium_2_1', line1='1 10023U          24141.00000000  .00000000  00000-0  00000-0 0    01', line2='2 10023  86.4000  60.0000 0010000   0.0000 163.6364 14.33216553    05', model=None),\n",
       " Spacecraft(id=10024, name='Iridium_2_2', line1='1 10024U          24141.00000000  .00000000  00000-0  00000-0 0    02', line2='2 10024  86.4000  60.0000 0010000   0.0000 196.3636 14.33216553    01', model=None),\n",
       " Spacecraft(id=10025, name='Iridium_2_3', line1='1 10025U          24141.00000000  .00000000  00000-0  00000-0 0    03', line2='2 10025  86.4000  60.0000 0010000   0.0000 229.0909 14.33216553    09', model=None),\n",
       " Spacecraft(id=10026, name='Iridium_2_4', line1='1 10026U          24141.00000000  .00000000  00000-0  00000-0 0    04', line2='2 10026  86.4000  60.0000 0010000   0.0000 261.8182 14.33216553    07', model=None),\n",
       " Spacecraft(id=10027, name='Iridium_2_5', line1='1 10027U          24141.00000000  .00000000  00000-0  00000-0 0    05', line2='2 10027  86.4000  60.0000 0010000   0.0000 294.5455 14.33216553    04', model=None),\n",
       " Spacecraft(id=10028, name='Iridium_2_6', line1='1 10028U          24141.00000000  .00000000  00000-0  00000-0 0    06', line2='2 10028  86.4000  60.0000 0010000   0.0000 327.2727 14.33216553    01', model=None),\n",
       " Spacecraft(id=10029, name='Iridium_2_7', line1='1 10029U          24141.00000000  .00000000  00000-0  00000-0 0    07', line2='2 10029  86.4000  60.0000 0010000   0.0000   0.0000 14.33216553    02', model=None),\n",
       " Spacecraft(id=10030, name='Iridium_2_8', line1='1 10030U          24141.00000000  .00000000  00000-0  00000-0 0    09', line2='2 10030  86.4000  60.0000 0010000   0.0000  32.7273 14.33216553    08', model=None),\n",
       " Spacecraft(id=10031, name='Iridium_2_9', line1='1 10031U          24141.00000000  .00000000  00000-0  00000-0 0    00', line2='2 10031  86.4000  60.0000 0010000   0.0000  65.4545 14.33216553    04', model=None),\n",
       " Spacecraft(id=10032, name='Iridium_2_10', line1='1 10032U          24141.00000000  .00000000  00000-0  00000-0 0    01', line2='2 10032  86.4000  60.0000 0010000   0.0000  98.1818 14.33216553    01', model=None),\n",
       " Spacecraft(id=10033, name='Iridium_3_0', line1='1 10033U          24141.00000000  .00000000  00000-0  00000-0 0    02', line2='2 10033  86.4000  90.0000 0010000   0.0000 196.3636 14.33216553    04', model=None),\n",
       " Spacecraft(id=10034, name='Iridium_3_1', line1='1 10034U          24141.00000000  .00000000  00000-0  00000-0 0    03', line2='2 10034  86.4000  90.0000 0010000   0.0000 229.0909 14.33216553    02', model=None),\n",
       " Spacecraft(id=10035, name='Iridium_3_2', line1='1 10035U          24141.00000000  .00000000  00000-0  00000-0 0    04', line2='2 10035  86.4000  90.0000 0010000   0.0000 261.8182 14.33216553    00', model=None),\n",
       " Spacecraft(id=10036, name='Iridium_3_3', line1='1 10036U          24141.00000000  .00000000  00000-0  00000-0 0    05', line2='2 10036  86.4000  90.0000 0010000   0.0000 294.5455 14.33216553    07', model=None),\n",
       " Spacecraft(id=10037, name='Iridium_3_4', line1='1 10037U          24141.00000000  .00000000  00000-0  00000-0 0    06', line2='2 10037  86.4000  90.0000 0010000   0.0000 327.2727 14.33216553    04', model=None),\n",
       " Spacecraft(id=10038, name='Iridium_3_5', line1='1 10038U          24141.00000000  .00000000  00000-0  00000-0 0    07', line2='2 10038  86.4000  90.0000 0010000   0.0000   0.0000 14.33216553    05', model=None),\n",
       " Spacecraft(id=10039, name='Iridium_3_6', line1='1 10039U          24141.00000000  .00000000  00000-0  00000-0 0    08', line2='2 10039  86.4000  90.0000 0010000   0.0000  32.7273 14.33216553    00', model=None),\n",
       " Spacecraft(id=10040, name='Iridium_3_7', line1='1 10040U          24141.00000000  .00000000  00000-0  00000-0 0    00', line2='2 10040  86.4000  90.0000 0010000   0.0000  65.4545 14.33216553    07', model=None),\n",
       " Spacecraft(id=10041, name='Iridium_3_8', line1='1 10041U          24141.00000000  .00000000  00000-0  00000-0 0    01', line2='2 10041  86.4000  90.0000 0010000   0.0000  98.1818 14.33216553    04', model=None),\n",
       " Spacecraft(id=10042, name='Iridium_3_9', line1='1 10042U          24141.00000000  .00000000  00000-0  00000-0 0    02', line2='2 10042  86.4000  90.0000 0010000   0.0000 130.9091 14.33216553    03', model=None),\n",
       " Spacecraft(id=10043, name='Iridium_3_10', line1='1 10043U          24141.00000000  .00000000  00000-0  00000-0 0    03', line2='2 10043  86.4000  90.0000 0010000   0.0000 163.6364 14.33216553    00', model=None),\n",
       " Spacecraft(id=10044, name='Iridium_4_0', line1='1 10044U          24141.00000000  .00000000  00000-0  00000-0 0    04', line2='2 10044  86.4000 120.0000 0010000   0.0000 261.8182 14.33216553    04', model=None),\n",
       " Spacecraft(id=10045, name='Iridium_4_1', line1='1 10045U          24141.00000000  .00000000  00000-0  00000-0 0    05', line2='2 10045  86.4000 120.0000 0010000   0.0000 294.5455 14.33216553    01', model=None),\n",
       " Spacecraft(id=10046, name='Iridium_4_2', line1='1 10046U          24141.00000000  .00000000  00000-0  00000-0 0    06', line2='2 10046  86.4000 120.0000 0010000   0.0000 327.2727 14.33216553    08', model=None),\n",
       " Spacecraft(id=10047, name='Iridium_4_3', line1='1 10047U          24141.00000000  .00000000  00000-0  00000-0 0    07', line2='2 10047  86.4000 120.0000 0010000   0.0000   0.0000 14.33216553    09', model=None),\n",
       " Spacecraft(id=10048, name='Iridium_4_4', line1='1 10048U          24141.00000000  .00000000  00000-0  00000-0 0    08', line2='2 10048  86.4000 120.0000 0010000   0.0000  32.7273 14.33216553    04', model=None),\n",
       " Spacecraft(id=10049, name='Iridium_4_5', line1='1 10049U          24141.00000000  .00000000  00000-0  00000-0 0    09', line2='2 10049  86.4000 120.0000 0010000   0.0000  65.4545 14.33216553    00', model=None),\n",
       " Spacecraft(id=10050, name='Iridium_4_6', line1='1 10050U          24141.00000000  .00000000  00000-0  00000-0 0    01', line2='2 10050  86.4000 120.0000 0010000   0.0000  98.1818 14.33216553    08', model=None),\n",
       " Spacecraft(id=10051, name='Iridium_4_7', line1='1 10051U          24141.00000000  .00000000  00000-0  00000-0 0    02', line2='2 10051  86.4000 120.0000 0010000   0.0000 130.9091 14.33216553    07', model=None),\n",
       " Spacecraft(id=10052, name='Iridium_4_8', line1='1 10052U          24141.00000000  .00000000  00000-0  00000-0 0    03', line2='2 10052  86.4000 120.0000 0010000   0.0000 163.6364 14.33216553    04', model=None),\n",
       " Spacecraft(id=10053, name='Iridium_4_9', line1='1 10053U          24141.00000000  .00000000  00000-0  00000-0 0    04', line2='2 10053  86.4000 120.0000 0010000   0.0000 196.3636 14.33216553    00', model=None),\n",
       " Spacecraft(id=10054, name='Iridium_4_10', line1='1 10054U          24141.00000000  .00000000  00000-0  00000-0 0    05', line2='2 10054  86.4000 120.0000 0010000   0.0000 229.0909 14.33216553    08', model=None),\n",
       " Spacecraft(id=10055, name='Iridium_5_0', line1='1 10055U          24141.00000000  .00000000  00000-0  00000-0 0    06', line2='2 10055  86.4000 150.0000 0010000   0.0000 327.2727 14.33216553    01', model=None),\n",
       " Spacecraft(id=10056, name='Iridium_5_1', line1='1 10056U          24141.00000000  .00000000  00000-0  00000-0 0    07', line2='2 10056  86.4000 150.0000 0010000   0.0000   0.0000 14.33216553    02', model=None),\n",
       " Spacecraft(id=10057, name='Iridium_5_2', line1='1 10057U          24141.00000000  .00000000  00000-0  00000-0 0    08', line2='2 10057  86.4000 150.0000 0010000   0.0000  32.7273 14.33216553    07', model=None),\n",
       " Spacecraft(id=10058, name='Iridium_5_3', line1='1 10058U          24141.00000000  .00000000  00000-0  00000-0 0    09', line2='2 10058  86.4000 150.0000 0010000   0.0000  65.4545 14.33216553    03', model=None),\n",
       " Spacecraft(id=10059, name='Iridium_5_4', line1='1 10059U          24141.00000000  .00000000  00000-0  00000-0 0    00', line2='2 10059  86.4000 150.0000 0010000   0.0000  98.1818 14.33216553    00', model=None),\n",
       " Spacecraft(id=10060, name='Iridium_5_5', line1='1 10060U          24141.00000000  .00000000  00000-0  00000-0 0    02', line2='2 10060  86.4000 150.0000 0010000   0.0000 130.9091 14.33216553    00', model=None),\n",
       " Spacecraft(id=10061, name='Iridium_5_6', line1='1 10061U          24141.00000000  .00000000  00000-0  00000-0 0    03', line2='2 10061  86.4000 150.0000 0010000   0.0000 163.6364 14.33216553    07', model=None),\n",
       " Spacecraft(id=10062, name='Iridium_5_7', line1='1 10062U          24141.00000000  .00000000  00000-0  00000-0 0    04', line2='2 10062  86.4000 150.0000 0010000   0.0000 196.3636 14.33216553    03', model=None),\n",
       " Spacecraft(id=10063, name='Iridium_5_8', line1='1 10063U          24141.00000000  .00000000  00000-0  00000-0 0    05', line2='2 10063  86.4000 150.0000 0010000   0.0000 229.0909 14.33216553    01', model=None),\n",
       " Spacecraft(id=10064, name='Iridium_5_9', line1='1 10064U          24141.00000000  .00000000  00000-0  00000-0 0    06', line2='2 10064  86.4000 150.0000 0010000   0.0000 261.8182 14.33216553    09', model=None),\n",
       " Spacecraft(id=10065, name='Iridium_5_10', line1='1 10065U          24141.00000000  .00000000  00000-0  00000-0 0    07', line2='2 10065  86.4000 150.0000 0010000   0.0000 294.5455 14.33216553    06', model=None)]"
      ]
     },
     "execution_count": 11,
     "metadata": {},
     "output_type": "execute_result"
    }
   ],
   "source": [
    "# test for iridium walker star\n",
    "\n",
    "make_walker_constellation(\n",
    "    epoch=bh.Epoch(2024, 5, 20, 0, 0, 0),\n",
    "    altitude_km=781,\n",
    "    eccentricity=0.001,\n",
    "    inclination=86.4,\n",
    "    num_planes=6,\n",
    "    sats_per_plane=11,\n",
    "    phase=2,\n",
    "    argp=0.0,\n",
    "    norad_start=10000,\n",
    "    star = True,\n",
    ")"
   ]
  },
  {
   "cell_type": "code",
   "execution_count": null,
   "id": "1043ae1a",
   "metadata": {},
   "outputs": [
    {
     "data": {
      "text/plain": [
       "[Spacecraft(id=10000, name='Sat_0_0', line1='1 10000U          24141.00000000  .00000000  00000-0  00000-0 0    06', line2='2 10000  86.4000   0.0000 0010000   0.0000   0.0000 14.33216553    05', model=None),\n",
       " Spacecraft(id=10001, name='Sat_1_0', line1='1 10001U          24141.00000000  .00000000  00000-0  00000-0 0    07', line2='2 10001  86.4000  90.0000 0010000   0.0000   0.0000 14.33216553    05', model=None)]"
      ]
     },
     "execution_count": 23,
     "metadata": {},
     "output_type": "execute_result"
    }
   ],
   "source": [
    "# test for iridium walker star\n",
    "\n",
    "make_walker_constellation(\n",
    "    epoch=bh.Epoch(2024, 5, 20, 0, 0, 0),\n",
    "    altitude_km=781,\n",
    "    eccentricity=0.001,\n",
    "    inclination=86.4,\n",
    "    num_planes= 2, #6,\n",
    "    sats_per_plane= 1,#11,\n",
    "    phase=2,\n",
    "    argp=0.0,\n",
    "    norad_start=10000,\n",
    "    star = True,\n",
    ")"
   ]
  },
  {
   "cell_type": "code",
   "execution_count": 18,
   "id": "886c5a24",
   "metadata": {},
   "outputs": [
    {
     "name": "stdout",
     "output_type": "stream",
     "text": [
      "Our TLE looks like:\n",
      " 1 99999U          24141.00000000  .00000000  00000-0  00000-0 0    00\n",
      " 2 99999  53.0000  15.0000 0100000  30.0000  45.0000 15.05490874    07\n",
      "\n"
     ]
    }
   ],
   "source": [
    "##### Trying to generate a satellite just through tles ######\n",
    "\n",
    "# Create a TLE\n",
    "epc0 = bh.Epoch(2024, 5, 20, 0, 0, 0) # This is the epoch of the orbital elements\n",
    "alt  = 550 # Altitude in km\n",
    "ecc  = 0.01 # Eccentricity - Generally don't want it to be 0, so give it a small value 0.0001 to 0.01\n",
    "inc  = 53 # Inclination in degrees\n",
    "raan = 15 # Right Ascension of the Ascending Node in degrees\n",
    "argp = 30 # Argument of Perigee in degrees\n",
    "M    = 45 # Mean Anomaly in degrees\n",
    "norad_id = 99999 # NORAD ID of the satellite - This is just a placeholder, but we need a number.\n",
    "\n",
    "tle = make_tle(epc0, alt, ecc, inc, raan, argp, M, norad_id=norad_id)\n",
    "\n",
    "print(f'Our TLE looks like:\\n {tle.line1}\\n {tle.line2}\\n')\n",
    "\n",
    "sat1 = bdm.Spacecraft(\n",
    "    id=99999, # Might need to change this at one point\n",
    "    name=\"Sat1\",\n",
    "    line1=tle.line1,\n",
    "    line2=tle.line2,\n",
    ")"
   ]
  },
  {
   "cell_type": "markdown",
   "id": "cc8448ad",
   "metadata": {},
   "source": [
    "## Load Ground Station Locations and Compute Contacts"
   ]
  },
  {
   "cell_type": "code",
   "execution_count": null,
   "id": "b910b0ac",
   "metadata": {},
   "outputs": [
    {
     "data": {
      "image/png": "[encoded data removed]",
      "text/plain": [
       "<Figure size 2000x700 with 1 Axes>"
      ]
     },
     "metadata": {},
     "output_type": "display_data"
    }
   ],
   "source": [
    "fig, ax = fig, ax =  plt.subplots(figsize=(20,7))\n",
    "\n",
    "# Ground station Locations\n",
    "stations = teleport_json('data/teleport_locations.json')\n",
    "\n",
    "# Computing Contacts for only one day\n",
    "epc1 = epc0 + 86400 # seconds in a day\n",
    "\n",
    "contacts_all = []\n",
    "\n",
    "######################## Plotting specific! ####################\n",
    "\n",
    "# going through computing contacts for all stations and all \n",
    "for station,id in zip(stations[0:2],range(len(stations[0:2]))):\n",
    "    contacts = ba.find_location_accesses(sat1,station,epc0,epc1)\n",
    "    for contact in contacts:\n",
    "        contacts_all.append(contact)\n",
    "    ax.broken_barh([(contacts[i].t_start,contacts[i].t_end-contacts[i].t_start) for i in range(len(contacts))], (id+0.05, 0.85),facecolors='tab:blue')\n",
    "\n",
    "ax.broken_barh([(contacts_all[i].t_start,contacts_all[i].t_end-contacts_all[i].t_start) for i in range(len(contacts_all))], (-0.95, 0.85),facecolors='tab:blue', label = \"contact times\")\n",
    "\n",
    "sorted_contacts = sorted(contacts_all, key=lambda t: t.t_start)\n",
    "all_gap_times = []\n",
    "\n",
    "current_t_end = sorted_contacts[0].t_end\n",
    "for contact in sorted_contacts:\n",
    "    if current_t_end < contact.t_end and current_t_end > contact.t_start:\n",
    "        current_t_end = contact.t_end\n",
    "    if current_t_end < contact.t_start:\n",
    "        all_gap_times.append((current_t_end,contact.t_start))\n",
    "        current_t_end = contact.t_end\n",
    "\n",
    "ax.broken_barh([(all_gap_times[i][0],all_gap_times[i][1]-all_gap_times[i][0]) for i in range(len(all_gap_times))], (-1.9, 0.85),facecolors='tab:green',label = \"gaptimes\")\n",
    "\n",
    "plt.ylabel(\"different ground station ids\")\n",
    "plt.xlabel(\"time period over a day\")\n",
    "plt.legend()\n",
    "plt.show()\n",
    "\n",
    "######################## Plotting specific! ####################\n",
    "\n"
   ]
  }
 ],
 "metadata": {
  "kernelspec": {
   "display_name": ".venv",
   "language": "python",
   "name": "python3"
  },
  "language_info": {
   "codemirror_mode": {
    "name": "ipython",
    "version": 3
   },
   "file_extension": ".py",
   "mimetype": "text/x-python",
   "name": "python",
   "nbconvert_exporter": "python",
   "pygments_lexer": "ipython3",
   "version": "3.11.8"
  }
 },
 "nbformat": 4,
 "nbformat_minor": 5
}
