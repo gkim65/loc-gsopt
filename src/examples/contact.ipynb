{
 "cells": [
  {
   "cell_type": "markdown",
   "metadata": {},
   "source": [
    "# Contact Example\n",
    "\n",
    "How to run contacts using the brahe library, with some additional functions in this repository!\n",
    "\n",
    "First, make sure to install the brahe library:\n",
    "\n",
    "```bash\n",
    "pip install git+https://github.com/duncaneddy/brahe.git@master matplotlib ipympl cartopy\n",
    "```"
   ]
  },
  {
   "cell_type": "markdown",
   "metadata": {},
   "source": [
    "## Setup Imports\n",
    "\n",
    "(not relevant to repo, can skip) \n",
    "\n",
    "Adding module path to run correctly in examples folder"
   ]
  },
  {
   "cell_type": "code",
   "execution_count": 2,
   "metadata": {},
   "outputs": [
    {
     "name": "stdout",
     "output_type": "stream",
     "text": [
      "/Users/gracekim/Documents/School_Everything_and_LEARNING/Stanford/Githubs/loc-gsopt/src\n"
     ]
    }
   ],
   "source": [
    "import sys\n",
    "import os\n",
    "\n",
    "# Add the path to the folder containing the module\n",
    "module_path = os.path.abspath(os.path.join('..'))\n",
    "print(module_path)\n",
    "if module_path not in sys.path:\n",
    "    sys.path.append(module_path)"
   ]
  },
  {
   "cell_type": "markdown",
   "metadata": {},
   "source": [
    "## Imports & Downloading latest Earth Orientation Data"
   ]
  },
  {
   "cell_type": "code",
   "execution_count": 7,
   "metadata": {},
   "outputs": [
    {
     "name": "stdout",
     "output_type": "stream",
     "text": [
      "Loading the latest Earth Orientation Data\n"
     ]
    }
   ],
   "source": [
    "from common.sat_gen import make_tle\n",
    "from common.station_gen import gs_json\n",
    "from common.utils import load_earth_data\n",
    "\n",
    "# Brahe Imports\n",
    "import brahe as bh\n",
    "import brahe.data_models as bdm\n",
    "import brahe.access.access as ba\n",
    "\n",
    "%matplotlib inline\n",
    "import matplotlib.pyplot as plt\n",
    "\n",
    "# Setup info\n",
    "load_earth_data('data/iau2000A_finals_ab.txt')"
   ]
  },
  {
   "cell_type": "markdown",
   "metadata": {},
   "source": [
    "## Generate Satellites Using TLEs"
   ]
  },
  {
   "cell_type": "code",
   "execution_count": 4,
   "metadata": {},
   "outputs": [
    {
     "name": "stdout",
     "output_type": "stream",
     "text": [
      "Our TLE looks like:\n",
      " 1 99999U          24141.00000000  .00000000  00000-0  00000-0 0    00\n",
      " 2 99999  53.0000  15.0000 0100000  30.0000  45.0000 15.05490874    07\n",
      "\n"
     ]
    }
   ],
   "source": [
    "##### Trying to generate a satellite just through tles ######\n",
    "\n",
    "# Create a TLE\n",
    "epc0 = bh.Epoch(2024, 5, 20, 0, 0, 0) # This is the epoch of the orbital elements\n",
    "alt  = 550 # Altitude in km\n",
    "ecc  = 0.01 # Eccentricity - Generally don't want it to be 0, so give it a small value 0.0001 to 0.01\n",
    "inc  = 53 # Inclination in degrees\n",
    "raan = 15 # Right Ascension of the Ascending Node in degrees\n",
    "argp = 30 # Argument of Perigee in degrees\n",
    "M    = 45 # Mean Anomaly in degrees\n",
    "norad_id = 99999 # NORAD ID of the satellite - This is just a placeholder, but we need a number.\n",
    "\n",
    "tle = make_tle(epc0, alt, ecc, inc, raan, argp, M, norad_id=norad_id)\n",
    "\n",
    "print(f'Our TLE looks like:\\n {tle.line1}\\n {tle.line2}\\n')\n",
    "\n",
    "sat1 = bdm.Spacecraft(\n",
    "    id=99999, # Might need to change this at one point\n",
    "    name=\"Sat1\",\n",
    "    line1=tle.line1,\n",
    "    line2=tle.line2,\n",
    ")"
   ]
  },
  {
   "cell_type": "code",
   "execution_count": 12,
   "metadata": {},
   "outputs": [],
   "source": [
    "from common.sat_gen import satellites_from_constellation\n",
    "\n",
    "satellites = satellites_from_constellation(\"ICEYE\")[0:10]"
   ]
  },
  {
   "cell_type": "markdown",
   "metadata": {},
   "source": [
    "## Load Ground Station Locations and Compute Contacts"
   ]
  },
  {
   "cell_type": "code",
   "execution_count": 16,
   "metadata": {},
   "outputs": [
    {
     "data": {
      "image/png": "[encoded data removed]",
      "text/plain": [
       "<Figure size 2000x700 with 1 Axes>"
      ]
     },
     "metadata": {},
     "output_type": "display_data"
    }
   ],
   "source": [
    "\n",
    "from common.station_gen import return_bdm_gs\n",
    "fig, ax = fig, ax =  plt.subplots(figsize=(20,7))\n",
    "\n",
    "# Ground station Locations\n",
    "# stations = gs_json('groundstations/atlas.json')\n",
    "stations = []\n",
    "gs_list = [[27.93191677601733, -90.0], [149.5319919768149, -34.95112833568945], [-62.12542155752943, -69.20261479053809]]\n",
    "#[[92.44410570135645, -90.0], [-68.17384533868844, -89.98132260158941], [-51.260167274781224, -89.9645197301773]]\n",
    "for gs in gs_list:\n",
    "    stations.append(return_bdm_gs(gs[0], gs[1]))\n",
    "\n",
    "# Computing Contacts for only one day\n",
    "epc1 = epc0 + 86400\n",
    "contacts_all = []\n",
    "\n",
    "\n",
    "for station,id in zip(stations,range(len(stations))):\n",
    "    for sat,id_sat in zip(satellites,range(len(satellites))):\n",
    "        contacts = ba.find_location_accesses(sat,station,epc0,epc1)\n",
    "        for contact in contacts:\n",
    "            contacts_all.append(contact)\n",
    "        ax.broken_barh([(contacts[i].t_start,contacts[i].t_end-contacts[i].t_start) for i in range(len(contacts))], (id+0.05, 0.85),facecolors='tab:blue')\n",
    "\n",
    "ax.broken_barh([(contacts_all[i].t_start,contacts_all[i].t_end-contacts_all[i].t_start) for i in range(len(contacts_all))], (-0.95, 0.85),facecolors='tab:blue', label = \"contact times\")\n",
    "\n",
    "sorted_contacts = sorted(contacts_all, key=lambda t: t.t_start)\n",
    "all_gap_times = []\n",
    "\n",
    "current_t_end = sorted_contacts[0].t_end\n",
    "for contact in sorted_contacts:\n",
    "    if current_t_end < contact.t_end and current_t_end > contact.t_start:\n",
    "        current_t_end = contact.t_end\n",
    "    if current_t_end < contact.t_start:\n",
    "        all_gap_times.append((current_t_end,contact.t_start))\n",
    "        current_t_end = contact.t_end\n",
    "\n",
    "ax.broken_barh([(all_gap_times[i][0],all_gap_times[i][1]-all_gap_times[i][0]) for i in range(len(all_gap_times))], (-1.9, 0.85),facecolors='tab:green',label = \"gaptimes\")\n",
    "\n",
    "plt.ylabel(\"different ground station ids\")\n",
    "plt.xlabel(\"time period over a day\")\n",
    "plt.legend()\n",
    "plt.show()\n"
   ]
  },
  {
   "cell_type": "code",
   "execution_count": 14,
   "metadata": {},
   "outputs": [
    {
     "data": {
      "text/plain": [
       "[(datetime.datetime(2024, 5, 20, 0, 6, 20, 300903),\n",
       "  datetime.timedelta(seconds=285, microseconds=93384)),\n",
       " (datetime.datetime(2024, 5, 20, 0, 22, 55, 440673),\n",
       "  datetime.timedelta(seconds=198, microseconds=85327)),\n",
       " (datetime.datetime(2024, 5, 20, 0, 36, 11, 993408),\n",
       "  datetime.timedelta(seconds=871, microseconds=151733)),\n",
       " (datetime.datetime(2024, 5, 20, 1, 5, 34, 262695),\n",
       "  datetime.timedelta(seconds=407, microseconds=250366)),\n",
       " (datetime.datetime(2024, 5, 20, 1, 40, 12, 900497),\n",
       "  datetime.timedelta(seconds=381, microseconds=648641)),\n",
       " (datetime.datetime(2024, 5, 20, 1, 58, 24, 590031),\n",
       "  datetime.timedelta(seconds=31, microseconds=129009)),\n",
       " (datetime.datetime(2024, 5, 20, 2, 8, 54, 230393),\n",
       "  datetime.timedelta(seconds=1055, microseconds=582570)),\n",
       " (datetime.datetime(2024, 5, 20, 2, 41, 50, 627840),\n",
       "  datetime.timedelta(seconds=301, microseconds=403229)),\n",
       " (datetime.datetime(2024, 5, 20, 3, 14, 5, 494598),\n",
       "  datetime.timedelta(seconds=478, microseconds=203898)),\n",
       " (datetime.datetime(2024, 5, 20, 3, 41, 36, 546114),\n",
       "  datetime.timedelta(seconds=1239, microseconds=929178)),\n",
       " (datetime.datetime(2024, 5, 20, 4, 18, 6, 991153),\n",
       "  datetime.timedelta(seconds=179, microseconds=333683)),\n",
       " (datetime.datetime(2024, 5, 20, 4, 47, 58, 81375),\n",
       "  datetime.timedelta(seconds=574, microseconds=757323)),\n",
       " (datetime.datetime(2024, 5, 20, 5, 14, 18, 938738),\n",
       "  datetime.timedelta(seconds=1424, microseconds=195221)),\n",
       " (datetime.datetime(2024, 5, 20, 6, 21, 50, 658996),\n",
       "  datetime.timedelta(seconds=671, microseconds=314412)),\n",
       " (datetime.datetime(2024, 5, 20, 6, 47, 1, 408268),\n",
       "  datetime.timedelta(seconds=1608, microseconds=378864)),\n",
       " (datetime.datetime(2024, 5, 20, 7, 56, 21, 989291),\n",
       "  datetime.timedelta(seconds=729, microseconds=111502)),\n",
       " (datetime.datetime(2024, 5, 20, 8, 20, 21, 114221),\n",
       "  datetime.timedelta(seconds=1755, microseconds=322423)),\n",
       " (datetime.datetime(2024, 5, 20, 9, 31, 50, 434765),\n",
       "  datetime.timedelta(seconds=637, microseconds=408533)),\n",
       " (datetime.datetime(2024, 5, 20, 9, 55, 50, 228789),\n",
       "  datetime.timedelta(seconds=1772, microseconds=851873)),\n",
       " (datetime.datetime(2024, 5, 20, 11, 7, 18, 874745),\n",
       "  datetime.timedelta(seconds=471, microseconds=624850)),\n",
       " (datetime.datetime(2024, 5, 20, 11, 31, 19, 334202),\n",
       "  datetime.timedelta(seconds=1790, microseconds=386817)),\n",
       " (datetime.datetime(2024, 5, 20, 12, 42, 47, 307402),\n",
       "  datetime.timedelta(seconds=305, microseconds=925394)),\n",
       " (datetime.datetime(2024, 5, 20, 13, 6, 48, 434121),\n",
       "  datetime.timedelta(seconds=1807, microseconds=921761)),\n",
       " (datetime.datetime(2024, 5, 20, 14, 18, 15, 732734),\n",
       "  datetime.timedelta(seconds=140, microseconds=310167)),\n",
       " (datetime.datetime(2024, 5, 20, 14, 42, 17, 526716),\n",
       "  datetime.timedelta(seconds=1803, microseconds=452442)),\n",
       " (datetime.datetime(2024, 5, 20, 16, 3, 17, 842264),\n",
       "  datetime.timedelta(seconds=158, microseconds=785593)),\n",
       " (datetime.datetime(2024, 5, 20, 16, 17, 46, 610156),\n",
       "  datetime.timedelta(seconds=1656, microseconds=536242)),\n",
       " (datetime.datetime(2024, 5, 20, 17, 36, 0, 850123),\n",
       "  datetime.timedelta(seconds=324, microseconds=863005)),\n",
       " (datetime.datetime(2024, 5, 20, 17, 53, 15, 688103),\n",
       "  datetime.timedelta(seconds=1509, microseconds=645676)),\n",
       " (datetime.datetime(2024, 5, 20, 19, 8, 43, 933056),\n",
       "  datetime.timedelta(seconds=490, microseconds=858019)),\n",
       " (datetime.datetime(2024, 5, 20, 19, 28, 44, 758726),\n",
       "  datetime.timedelta(seconds=1362, microseconds=778914)),\n",
       " (datetime.datetime(2024, 5, 20, 20, 41, 27, 94724),\n",
       "  datetime.timedelta(seconds=656, microseconds=765142)),\n",
       " (datetime.datetime(2024, 5, 20, 21, 4, 13, 822024),\n",
       "  datetime.timedelta(seconds=1215, microseconds=939619)),\n",
       " (datetime.datetime(2024, 5, 20, 21, 34, 37, 957444),\n",
       "  datetime.timedelta(seconds=71, microseconds=506835)),\n",
       " (datetime.datetime(2024, 5, 20, 22, 15, 37, 764179),\n",
       "  datetime.timedelta(seconds=735, microseconds=158986)),\n",
       " (datetime.datetime(2024, 5, 20, 22, 39, 42, 879830),\n",
       "  datetime.timedelta(seconds=1069, microseconds=124126)),\n",
       " (datetime.datetime(2024, 5, 20, 23, 7, 40, 210743),\n",
       "  datetime.timedelta(seconds=235, microseconds=860933))]"
      ]
     },
     "execution_count": 14,
     "metadata": {},
     "output_type": "execute_result"
    }
   ],
   "source": [
    "[(all_gap_times[i][0],all_gap_times[i][1]-all_gap_times[i][0]) for i in range(len(all_gap_times))]"
   ]
  },
  {
   "cell_type": "code",
   "execution_count": null,
   "metadata": {},
   "outputs": [],
   "source": []
  }
 ],
 "metadata": {
  "kernelspec": {
   "display_name": "gsopt",
   "language": "python",
   "name": "python3"
  },
  "language_info": {
   "codemirror_mode": {
    "name": "ipython",
    "version": 3
   },
   "file_extension": ".py",
   "mimetype": "text/x-python",
   "name": "python",
   "nbconvert_exporter": "python",
   "pygments_lexer": "ipython3",
   "version": "3.11.9"
  }
 },
 "nbformat": 4,
 "nbformat_minor": 2
}
