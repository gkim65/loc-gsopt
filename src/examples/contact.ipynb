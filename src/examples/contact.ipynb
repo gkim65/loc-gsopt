{
 "cells": [
  {
   "cell_type": "markdown",
   "metadata": {},
   "source": [
    "# Contact Example\n",
    "\n",
    "How to run contacts using the brahe library, with some additional functions in this repository!\n",
    "\n",
    "First, make sure to install the brahe library:\n",
    "\n",
    "```bash\n",
    "pip install git+https://github.com/duncaneddy/brahe.git@master matplotlib ipympl cartopy\n",
    "```"
   ]
  },
  {
   "cell_type": "markdown",
   "metadata": {},
   "source": [
    "## Setup Imports\n",
    "\n",
    "(not relevant to repo, can skip) \n",
    "\n",
    "Adding module path to run correctly in examples folder"
   ]
  },
  {
   "cell_type": "code",
   "execution_count": 1,
   "metadata": {},
   "outputs": [
    {
     "name": "stdout",
     "output_type": "stream",
     "text": [
      "/Users/gracekim/Documents/School_Everything_and_LEARNING/Stanford/Githubs/loc-gsopt/src\n"
     ]
    }
   ],
   "source": [
    "import sys\n",
    "import os\n",
    "\n",
    "# Add the path to the folder containing the module\n",
    "module_path = os.path.abspath(os.path.join('..'))\n",
    "print(module_path)\n",
    "if module_path not in sys.path:\n",
    "    sys.path.append(module_path)"
   ]
  },
  {
   "cell_type": "markdown",
   "metadata": {},
   "source": [
    "## Imports & Downloading latest Earth Orientation Data"
   ]
  },
  {
   "cell_type": "code",
   "execution_count": 2,
   "metadata": {},
   "outputs": [
    {
     "name": "stdout",
     "output_type": "stream",
     "text": [
      "Loading the latest Earth Orientation Data\n"
     ]
    }
   ],
   "source": [
    "%matplotlib inline\n",
    "from common.sat_gen import make_tle\n",
    "from common.station_gen import gs_json\n",
    "from common.utils import load_earth_data\n",
    "\n",
    "# Brahe Imports\n",
    "import brahe as bh\n",
    "import brahe.data_models as bdm\n",
    "import brahe.access.access as ba\n",
    "\n",
    "import matplotlib.pyplot as plt\n",
    "\n",
    "# Setup info\n",
    "load_earth_data('data/iau2000A_finals_ab.txt')"
   ]
  },
  {
   "cell_type": "markdown",
   "metadata": {},
   "source": [
    "## Generate Satellites Using TLEs"
   ]
  },
  {
   "cell_type": "code",
   "execution_count": 4,
   "metadata": {},
   "outputs": [
    {
     "name": "stdout",
     "output_type": "stream",
     "text": [
      "Our TLE looks like:\n",
      " 1 99999U          24141.00000000  .00000000  00000-0  00000-0 0    00\n",
      " 2 99999  53.0000  15.0000 0100000  30.0000  45.0000 15.05490874    07\n",
      "\n"
     ]
    }
   ],
   "source": [
    "##### Trying to generate a satellite just through tles ######\n",
    "\n",
    "# Create a TLE\n",
    "epc0 = bh.Epoch(2024, 5, 20, 0, 0, 0) # This is the epoch of the orbital elements\n",
    "alt  = 550 # Altitude in km\n",
    "ecc  = 0.01 # Eccentricity - Generally don't want it to be 0, so give it a small value 0.0001 to 0.01\n",
    "inc  = 53 # Inclination in degrees\n",
    "raan = 15 # Right Ascension of the Ascending Node in degrees\n",
    "argp = 30 # Argument of Perigee in degrees\n",
    "M    = 45 # Mean Anomaly in degrees\n",
    "norad_id = 99999 # NORAD ID of the satellite - This is just a placeholder, but we need a number.\n",
    "\n",
    "tle = make_tle(epc0, alt, ecc, inc, raan, argp, M, norad_id=norad_id)\n",
    "\n",
    "print(f'Our TLE looks like:\\n {tle.line1}\\n {tle.line2}\\n')\n",
    "\n",
    "sat1 = bdm.Spacecraft(\n",
    "    id=99999, # Might need to change this at one point\n",
    "    name=\"Sat1\",\n",
    "    line1=tle.line1,\n",
    "    line2=tle.line2,\n",
    ")"
   ]
  },
  {
   "cell_type": "markdown",
   "metadata": {},
   "source": [
    "## Load Ground Station Locations and Compute Contacts"
   ]
  },
  {
   "cell_type": "code",
   "execution_count": 5,
   "metadata": {},
   "outputs": [
    {
     "name": "stderr",
     "output_type": "stream",
     "text": [
      "/var/folders/d9/89_mskkx2p1bqvlhj4jgcc8h0000gn/T/ipykernel_45223/221815407.py:34: UserWarning: FigureCanvasAgg is non-interactive, and thus cannot be shown\n",
      "  plt.show()\n"
     ]
    }
   ],
   "source": [
    "fig, ax = fig, ax =  plt.subplots(figsize=(20,7))\n",
    "\n",
    "# Ground station Locations\n",
    "stations = gs_json('groundstations/atlas.json')\n",
    "\n",
    "# Computing Contacts for only one day\n",
    "epc1 = epc0 + 86400\n",
    "contacts_all = []\n",
    "\n",
    "for station,id in zip(stations,range(len(stations))):\n",
    "    contacts = ba.find_location_accesses(sat1,station,epc0,epc1)\n",
    "    for contact in contacts:\n",
    "        contacts_all.append(contact)\n",
    "    ax.broken_barh([(contacts[i].t_start,contacts[i].t_end-contacts[i].t_start) for i in range(len(contacts))], (id+0.05, 0.85),facecolors='tab:blue')\n",
    "\n",
    "ax.broken_barh([(contacts_all[i].t_start,contacts_all[i].t_end-contacts_all[i].t_start) for i in range(len(contacts_all))], (-0.95, 0.85),facecolors='tab:blue', label = \"contact times\")\n",
    "\n",
    "sorted_contacts = sorted(contacts_all, key=lambda t: t.t_start)\n",
    "all_gap_times = []\n",
    "\n",
    "current_t_end = sorted_contacts[0].t_end\n",
    "for contact in sorted_contacts:\n",
    "    if current_t_end < contact.t_end and current_t_end > contact.t_start:\n",
    "        current_t_end = contact.t_end\n",
    "    if current_t_end < contact.t_start:\n",
    "        all_gap_times.append((current_t_end,contact.t_start))\n",
    "        current_t_end = contact.t_end\n",
    "\n",
    "ax.broken_barh([(all_gap_times[i][0],all_gap_times[i][1]-all_gap_times[i][0]) for i in range(len(all_gap_times))], (-1.9, 0.85),facecolors='tab:green',label = \"gaptimes\")\n",
    "\n",
    "plt.ylabel(\"different ground station ids\")\n",
    "plt.xlabel(\"time period over a day\")\n",
    "plt.legend()\n",
    "plt.show()\n"
   ]
  },
  {
   "cell_type": "code",
   "execution_count": null,
   "metadata": {},
   "outputs": [],
   "source": []
  }
 ],
 "metadata": {
  "kernelspec": {
   "display_name": "gsopt",
   "language": "python",
   "name": "python3"
  },
  "language_info": {
   "codemirror_mode": {
    "name": "ipython",
    "version": 3
   },
   "file_extension": ".py",
   "mimetype": "text/x-python",
   "name": "python",
   "nbconvert_exporter": "python",
   "pygments_lexer": "ipython3",
   "version": "3.11.9"
  }
 },
 "nbformat": 4,
 "nbformat_minor": 2
}
